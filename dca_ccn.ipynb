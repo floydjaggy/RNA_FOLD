{
  "nbformat": 4,
  "nbformat_minor": 0,
  "metadata": {
    "colab": {
      "name": "dca_ccn",
      "provenance": [],
      "machine_shape": "hm",
      "collapsed_sections": [],
      "include_colab_link": true
    },
    "kernelspec": {
      "name": "python3",
      "display_name": "Python 3"
    },
    "language_info": {
      "name": "python"
    }
  },
  "cells": [
    {
      "cell_type": "markdown",
      "metadata": {
        "id": "view-in-github",
        "colab_type": "text"
      },
      "source": [
        "<a href=\"https://colab.research.google.com/github/floydjaggy/RNA_FOLD/blob/main/dca_ccn.ipynb\" target=\"_parent\"><img src=\"https://colab.research.google.com/assets/colab-badge.svg\" alt=\"Open In Colab\"/></a>"
      ]
    },
    {
      "cell_type": "code",
      "execution_count": null,
      "metadata": {
        "id": "4CHI8jT8tIFH"
      },
      "outputs": [],
      "source": [
        "import matplotlib.pyplot as plt\n",
        "import numpy as np\n",
        "import seaborn as sns\n",
        "from sklearn.metrics import classification_report, confusion_matrix\n",
        "import pandas as pd\n",
        "from sklearn.model_selection import train_test_split\n",
        "from sklearn import preprocessing\n",
        "import tensorflow as tf\n",
        "import math\n",
        "from numpy import asarray\n",
        "from numpy import save\n",
        "from numpy import load\n",
        "from tensorflow.keras.models import Sequential\n",
        "from tensorflow.keras.layers import Dense, Conv2D, MaxPool2D, Dropout, Flatten, Input\n",
        "from sklearn.preprocessing import StandardScaler\n",
        "import os\n",
        "import tempfile\n",
        "from tensorflow import keras\n",
        "from tensorflow.keras.optimizers import RMSprop\n",
        "import matplotlib as mpl\n",
        "import sklearn\n",
        "#import keras_tuner as kt #may need to pip install keras tuner if doing hyperparameter tuning\n",
        "import cv2"
      ]
    },
    {
      "cell_type": "code",
      "source": [
        "#mount your drive to access the data \n",
        "#if you are accessing the data from the shared drive then you need to create a shortcut in your drive to the shared drive first\n",
        "#How do I mount a shared drive in Google Colab? - google this and follow instructions\n",
        "from google.colab import drive\n",
        "drive.mount('/content/drive')"
      ],
      "metadata": {
        "colab": {
          "base_uri": "https://localhost:8080/"
        },
        "id": "OQ3_LAJQ554M",
        "outputId": "2d716644-5bc4-423d-fbf8-2d7d69c4c4e0"
      },
      "execution_count": null,
      "outputs": [
        {
          "output_type": "stream",
          "name": "stdout",
          "text": [
            "Drive already mounted at /content/drive; to attempt to forcibly remount, call drive.mount(\"/content/drive\", force_remount=True).\n"
          ]
        }
      ]
    },
    {
      "cell_type": "code",
      "source": [
        "df_dca = pd.read_csv('./drive/MyDrive/labeledfrequenciesanddca_may9.csv', index_col=0)"
      ],
      "metadata": {
        "id": "F15moncldX4F"
      },
      "execution_count": null,
      "outputs": []
    },
    {
      "cell_type": "code",
      "source": [
        "#this sets the df up to make frames from it\n",
        "\n",
        "df_dca['positions'] = df_dca.index.str.slice(0,-4)\n",
        "df_dca.rename(columns = {'file2':'file'}, inplace = True)\n",
        "file = df_dca.pop('file')\n",
        "df_dca.insert(loc = 28, column = 'file', value = file)\n",
        "df_dca"
      ],
      "metadata": {
        "colab": {
          "base_uri": "https://localhost:8080/",
          "height": 519
        },
        "id": "2t-Qb2WUQJF3",
        "outputId": "00304d10-5d83-47f6-c7c8-7695c6fa349c"
      },
      "execution_count": null,
      "outputs": [
        {
          "output_type": "execute_result",
          "data": {
            "text/plain": [
              "               GA      GG      GC      GU      G-      CC      CU      CG  \\\n",
              "index                                                                       \n",
              "1:13D2G    0.0000  0.0000  0.0000  0.0000  0.0000  0.0000  0.0000  0.0000   \n",
              "1:23D2G    0.0376  0.0187  0.0673  0.0752  0.0001  0.0286  0.0441  0.0407   \n",
              "1:33D2G    0.0635  0.0308  0.0563  0.0483  0.0000  0.0620  0.0436  0.0253   \n",
              "1:43D2G    0.0600  0.0362  0.0628  0.0393  0.0006  0.0465  0.0268  0.0431   \n",
              "1:53D2G    0.0399  0.0422  0.0820  0.0345  0.0002  0.0831  0.0325  0.0153   \n",
              "...           ...     ...     ...     ...     ...     ...     ...     ...   \n",
              "84:804FRG  0.5236  0.0047  0.0142  0.0425  0.0094  0.0094  0.0047  0.0047   \n",
              "84:814FRG  0.0330  0.0047  0.0094  0.0189  0.0000  0.0094  0.0094  0.0000   \n",
              "84:824FRG  0.0330  0.0047  0.0047  0.0094  0.0000  0.0094  0.0047  0.0000   \n",
              "84:834FRG  0.0566  0.0047  0.0142  0.0094  0.0000  0.0047  0.0094  0.0000   \n",
              "84:844FRG  0.0000  0.0000  0.0000  0.0000  0.0000  0.0000  0.0000  0.0000   \n",
              "\n",
              "               CA      C-  ...      AA      --      -C      -U      -G  \\\n",
              "index                      ...                                           \n",
              "1:13D2G    0.0000  0.0000  ...  0.0000  0.0000  0.0000  0.0000  0.0000   \n",
              "1:23D2G    0.0639  0.0000  ...  0.0977  0.0150  0.0003  0.0000  0.0003   \n",
              "1:33D2G    0.0465  0.0000  ...  0.0779  0.0138  0.0002  0.0007  0.0001   \n",
              "1:43D2G    0.0609  0.0000  ...  0.1330  0.0129  0.0015  0.0006  0.0002   \n",
              "1:53D2G    0.0465  0.0000  ...  0.0814  0.0121  0.0018  0.0002  0.0009   \n",
              "...           ...     ...  ...     ...     ...     ...     ...     ...   \n",
              "84:804FRG  0.0094  0.0000  ...  0.1840  0.0425  0.0000  0.0094  0.0000   \n",
              "84:814FRG  0.1462  0.0000  ...  0.0377  0.0425  0.0000  0.0047  0.0000   \n",
              "84:824FRG  0.0472  0.0000  ...  0.5566  0.0425  0.0000  0.0000  0.0000   \n",
              "84:834FRG  0.0660  0.0047  ...  0.1934  0.0425  0.0000  0.0000  0.0000   \n",
              "84:844FRG  0.0000  0.0000  ...  0.0000  0.0000  0.0000  0.0000  0.0000   \n",
              "\n",
              "               -A  bond_type   dca_val  positions  file  \n",
              "index                                                    \n",
              "1:13D2G    0.0000          0  0.000000        1:1  3D2G  \n",
              "1:23D2G    0.0002          0  0.287503        1:2  3D2G  \n",
              "1:33D2G    0.0010          0  0.065946        1:3  3D2G  \n",
              "1:43D2G    0.0006          0 -0.062766        1:4  3D2G  \n",
              "1:53D2G    0.0009          0  0.037044        1:5  3D2G  \n",
              "...           ...        ...       ...        ...   ...  \n",
              "84:804FRG  0.0000          0 -0.017244      84:80  4FRG  \n",
              "84:814FRG  0.0000          0  0.071048      84:81  4FRG  \n",
              "84:824FRG  0.0000          0 -0.093757      84:82  4FRG  \n",
              "84:834FRG  0.0047          0  0.175769      84:83  4FRG  \n",
              "84:844FRG  0.0000          0  0.000000      84:84  4FRG  \n",
              "\n",
              "[1623417 rows x 29 columns]"
            ],
            "text/html": [
              "\n",
              "  <div id=\"df-a545cf41-10d0-4495-9281-c367005cb5c5\">\n",
              "    <div class=\"colab-df-container\">\n",
              "      <div>\n",
              "<style scoped>\n",
              "    .dataframe tbody tr th:only-of-type {\n",
              "        vertical-align: middle;\n",
              "    }\n",
              "\n",
              "    .dataframe tbody tr th {\n",
              "        vertical-align: top;\n",
              "    }\n",
              "\n",
              "    .dataframe thead th {\n",
              "        text-align: right;\n",
              "    }\n",
              "</style>\n",
              "<table border=\"1\" class=\"dataframe\">\n",
              "  <thead>\n",
              "    <tr style=\"text-align: right;\">\n",
              "      <th></th>\n",
              "      <th>GA</th>\n",
              "      <th>GG</th>\n",
              "      <th>GC</th>\n",
              "      <th>GU</th>\n",
              "      <th>G-</th>\n",
              "      <th>CC</th>\n",
              "      <th>CU</th>\n",
              "      <th>CG</th>\n",
              "      <th>CA</th>\n",
              "      <th>C-</th>\n",
              "      <th>...</th>\n",
              "      <th>AA</th>\n",
              "      <th>--</th>\n",
              "      <th>-C</th>\n",
              "      <th>-U</th>\n",
              "      <th>-G</th>\n",
              "      <th>-A</th>\n",
              "      <th>bond_type</th>\n",
              "      <th>dca_val</th>\n",
              "      <th>positions</th>\n",
              "      <th>file</th>\n",
              "    </tr>\n",
              "    <tr>\n",
              "      <th>index</th>\n",
              "      <th></th>\n",
              "      <th></th>\n",
              "      <th></th>\n",
              "      <th></th>\n",
              "      <th></th>\n",
              "      <th></th>\n",
              "      <th></th>\n",
              "      <th></th>\n",
              "      <th></th>\n",
              "      <th></th>\n",
              "      <th></th>\n",
              "      <th></th>\n",
              "      <th></th>\n",
              "      <th></th>\n",
              "      <th></th>\n",
              "      <th></th>\n",
              "      <th></th>\n",
              "      <th></th>\n",
              "      <th></th>\n",
              "      <th></th>\n",
              "      <th></th>\n",
              "    </tr>\n",
              "  </thead>\n",
              "  <tbody>\n",
              "    <tr>\n",
              "      <th>1:13D2G</th>\n",
              "      <td>0.0000</td>\n",
              "      <td>0.0000</td>\n",
              "      <td>0.0000</td>\n",
              "      <td>0.0000</td>\n",
              "      <td>0.0000</td>\n",
              "      <td>0.0000</td>\n",
              "      <td>0.0000</td>\n",
              "      <td>0.0000</td>\n",
              "      <td>0.0000</td>\n",
              "      <td>0.0000</td>\n",
              "      <td>...</td>\n",
              "      <td>0.0000</td>\n",
              "      <td>0.0000</td>\n",
              "      <td>0.0000</td>\n",
              "      <td>0.0000</td>\n",
              "      <td>0.0000</td>\n",
              "      <td>0.0000</td>\n",
              "      <td>0</td>\n",
              "      <td>0.000000</td>\n",
              "      <td>1:1</td>\n",
              "      <td>3D2G</td>\n",
              "    </tr>\n",
              "    <tr>\n",
              "      <th>1:23D2G</th>\n",
              "      <td>0.0376</td>\n",
              "      <td>0.0187</td>\n",
              "      <td>0.0673</td>\n",
              "      <td>0.0752</td>\n",
              "      <td>0.0001</td>\n",
              "      <td>0.0286</td>\n",
              "      <td>0.0441</td>\n",
              "      <td>0.0407</td>\n",
              "      <td>0.0639</td>\n",
              "      <td>0.0000</td>\n",
              "      <td>...</td>\n",
              "      <td>0.0977</td>\n",
              "      <td>0.0150</td>\n",
              "      <td>0.0003</td>\n",
              "      <td>0.0000</td>\n",
              "      <td>0.0003</td>\n",
              "      <td>0.0002</td>\n",
              "      <td>0</td>\n",
              "      <td>0.287503</td>\n",
              "      <td>1:2</td>\n",
              "      <td>3D2G</td>\n",
              "    </tr>\n",
              "    <tr>\n",
              "      <th>1:33D2G</th>\n",
              "      <td>0.0635</td>\n",
              "      <td>0.0308</td>\n",
              "      <td>0.0563</td>\n",
              "      <td>0.0483</td>\n",
              "      <td>0.0000</td>\n",
              "      <td>0.0620</td>\n",
              "      <td>0.0436</td>\n",
              "      <td>0.0253</td>\n",
              "      <td>0.0465</td>\n",
              "      <td>0.0000</td>\n",
              "      <td>...</td>\n",
              "      <td>0.0779</td>\n",
              "      <td>0.0138</td>\n",
              "      <td>0.0002</td>\n",
              "      <td>0.0007</td>\n",
              "      <td>0.0001</td>\n",
              "      <td>0.0010</td>\n",
              "      <td>0</td>\n",
              "      <td>0.065946</td>\n",
              "      <td>1:3</td>\n",
              "      <td>3D2G</td>\n",
              "    </tr>\n",
              "    <tr>\n",
              "      <th>1:43D2G</th>\n",
              "      <td>0.0600</td>\n",
              "      <td>0.0362</td>\n",
              "      <td>0.0628</td>\n",
              "      <td>0.0393</td>\n",
              "      <td>0.0006</td>\n",
              "      <td>0.0465</td>\n",
              "      <td>0.0268</td>\n",
              "      <td>0.0431</td>\n",
              "      <td>0.0609</td>\n",
              "      <td>0.0000</td>\n",
              "      <td>...</td>\n",
              "      <td>0.1330</td>\n",
              "      <td>0.0129</td>\n",
              "      <td>0.0015</td>\n",
              "      <td>0.0006</td>\n",
              "      <td>0.0002</td>\n",
              "      <td>0.0006</td>\n",
              "      <td>0</td>\n",
              "      <td>-0.062766</td>\n",
              "      <td>1:4</td>\n",
              "      <td>3D2G</td>\n",
              "    </tr>\n",
              "    <tr>\n",
              "      <th>1:53D2G</th>\n",
              "      <td>0.0399</td>\n",
              "      <td>0.0422</td>\n",
              "      <td>0.0820</td>\n",
              "      <td>0.0345</td>\n",
              "      <td>0.0002</td>\n",
              "      <td>0.0831</td>\n",
              "      <td>0.0325</td>\n",
              "      <td>0.0153</td>\n",
              "      <td>0.0465</td>\n",
              "      <td>0.0000</td>\n",
              "      <td>...</td>\n",
              "      <td>0.0814</td>\n",
              "      <td>0.0121</td>\n",
              "      <td>0.0018</td>\n",
              "      <td>0.0002</td>\n",
              "      <td>0.0009</td>\n",
              "      <td>0.0009</td>\n",
              "      <td>0</td>\n",
              "      <td>0.037044</td>\n",
              "      <td>1:5</td>\n",
              "      <td>3D2G</td>\n",
              "    </tr>\n",
              "    <tr>\n",
              "      <th>...</th>\n",
              "      <td>...</td>\n",
              "      <td>...</td>\n",
              "      <td>...</td>\n",
              "      <td>...</td>\n",
              "      <td>...</td>\n",
              "      <td>...</td>\n",
              "      <td>...</td>\n",
              "      <td>...</td>\n",
              "      <td>...</td>\n",
              "      <td>...</td>\n",
              "      <td>...</td>\n",
              "      <td>...</td>\n",
              "      <td>...</td>\n",
              "      <td>...</td>\n",
              "      <td>...</td>\n",
              "      <td>...</td>\n",
              "      <td>...</td>\n",
              "      <td>...</td>\n",
              "      <td>...</td>\n",
              "      <td>...</td>\n",
              "      <td>...</td>\n",
              "    </tr>\n",
              "    <tr>\n",
              "      <th>84:804FRG</th>\n",
              "      <td>0.5236</td>\n",
              "      <td>0.0047</td>\n",
              "      <td>0.0142</td>\n",
              "      <td>0.0425</td>\n",
              "      <td>0.0094</td>\n",
              "      <td>0.0094</td>\n",
              "      <td>0.0047</td>\n",
              "      <td>0.0047</td>\n",
              "      <td>0.0094</td>\n",
              "      <td>0.0000</td>\n",
              "      <td>...</td>\n",
              "      <td>0.1840</td>\n",
              "      <td>0.0425</td>\n",
              "      <td>0.0000</td>\n",
              "      <td>0.0094</td>\n",
              "      <td>0.0000</td>\n",
              "      <td>0.0000</td>\n",
              "      <td>0</td>\n",
              "      <td>-0.017244</td>\n",
              "      <td>84:80</td>\n",
              "      <td>4FRG</td>\n",
              "    </tr>\n",
              "    <tr>\n",
              "      <th>84:814FRG</th>\n",
              "      <td>0.0330</td>\n",
              "      <td>0.0047</td>\n",
              "      <td>0.0094</td>\n",
              "      <td>0.0189</td>\n",
              "      <td>0.0000</td>\n",
              "      <td>0.0094</td>\n",
              "      <td>0.0094</td>\n",
              "      <td>0.0000</td>\n",
              "      <td>0.1462</td>\n",
              "      <td>0.0000</td>\n",
              "      <td>...</td>\n",
              "      <td>0.0377</td>\n",
              "      <td>0.0425</td>\n",
              "      <td>0.0000</td>\n",
              "      <td>0.0047</td>\n",
              "      <td>0.0000</td>\n",
              "      <td>0.0000</td>\n",
              "      <td>0</td>\n",
              "      <td>0.071048</td>\n",
              "      <td>84:81</td>\n",
              "      <td>4FRG</td>\n",
              "    </tr>\n",
              "    <tr>\n",
              "      <th>84:824FRG</th>\n",
              "      <td>0.0330</td>\n",
              "      <td>0.0047</td>\n",
              "      <td>0.0047</td>\n",
              "      <td>0.0094</td>\n",
              "      <td>0.0000</td>\n",
              "      <td>0.0094</td>\n",
              "      <td>0.0047</td>\n",
              "      <td>0.0000</td>\n",
              "      <td>0.0472</td>\n",
              "      <td>0.0000</td>\n",
              "      <td>...</td>\n",
              "      <td>0.5566</td>\n",
              "      <td>0.0425</td>\n",
              "      <td>0.0000</td>\n",
              "      <td>0.0000</td>\n",
              "      <td>0.0000</td>\n",
              "      <td>0.0000</td>\n",
              "      <td>0</td>\n",
              "      <td>-0.093757</td>\n",
              "      <td>84:82</td>\n",
              "      <td>4FRG</td>\n",
              "    </tr>\n",
              "    <tr>\n",
              "      <th>84:834FRG</th>\n",
              "      <td>0.0566</td>\n",
              "      <td>0.0047</td>\n",
              "      <td>0.0142</td>\n",
              "      <td>0.0094</td>\n",
              "      <td>0.0000</td>\n",
              "      <td>0.0047</td>\n",
              "      <td>0.0094</td>\n",
              "      <td>0.0000</td>\n",
              "      <td>0.0660</td>\n",
              "      <td>0.0047</td>\n",
              "      <td>...</td>\n",
              "      <td>0.1934</td>\n",
              "      <td>0.0425</td>\n",
              "      <td>0.0000</td>\n",
              "      <td>0.0000</td>\n",
              "      <td>0.0000</td>\n",
              "      <td>0.0047</td>\n",
              "      <td>0</td>\n",
              "      <td>0.175769</td>\n",
              "      <td>84:83</td>\n",
              "      <td>4FRG</td>\n",
              "    </tr>\n",
              "    <tr>\n",
              "      <th>84:844FRG</th>\n",
              "      <td>0.0000</td>\n",
              "      <td>0.0000</td>\n",
              "      <td>0.0000</td>\n",
              "      <td>0.0000</td>\n",
              "      <td>0.0000</td>\n",
              "      <td>0.0000</td>\n",
              "      <td>0.0000</td>\n",
              "      <td>0.0000</td>\n",
              "      <td>0.0000</td>\n",
              "      <td>0.0000</td>\n",
              "      <td>...</td>\n",
              "      <td>0.0000</td>\n",
              "      <td>0.0000</td>\n",
              "      <td>0.0000</td>\n",
              "      <td>0.0000</td>\n",
              "      <td>0.0000</td>\n",
              "      <td>0.0000</td>\n",
              "      <td>0</td>\n",
              "      <td>0.000000</td>\n",
              "      <td>84:84</td>\n",
              "      <td>4FRG</td>\n",
              "    </tr>\n",
              "  </tbody>\n",
              "</table>\n",
              "<p>1623417 rows × 29 columns</p>\n",
              "</div>\n",
              "      <button class=\"colab-df-convert\" onclick=\"convertToInteractive('df-a545cf41-10d0-4495-9281-c367005cb5c5')\"\n",
              "              title=\"Convert this dataframe to an interactive table.\"\n",
              "              style=\"display:none;\">\n",
              "        \n",
              "  <svg xmlns=\"http://www.w3.org/2000/svg\" height=\"24px\"viewBox=\"0 0 24 24\"\n",
              "       width=\"24px\">\n",
              "    <path d=\"M0 0h24v24H0V0z\" fill=\"none\"/>\n",
              "    <path d=\"M18.56 5.44l.94 2.06.94-2.06 2.06-.94-2.06-.94-.94-2.06-.94 2.06-2.06.94zm-11 1L8.5 8.5l.94-2.06 2.06-.94-2.06-.94L8.5 2.5l-.94 2.06-2.06.94zm10 10l.94 2.06.94-2.06 2.06-.94-2.06-.94-.94-2.06-.94 2.06-2.06.94z\"/><path d=\"M17.41 7.96l-1.37-1.37c-.4-.4-.92-.59-1.43-.59-.52 0-1.04.2-1.43.59L10.3 9.45l-7.72 7.72c-.78.78-.78 2.05 0 2.83L4 21.41c.39.39.9.59 1.41.59.51 0 1.02-.2 1.41-.59l7.78-7.78 2.81-2.81c.8-.78.8-2.07 0-2.86zM5.41 20L4 18.59l7.72-7.72 1.47 1.35L5.41 20z\"/>\n",
              "  </svg>\n",
              "      </button>\n",
              "      \n",
              "  <style>\n",
              "    .colab-df-container {\n",
              "      display:flex;\n",
              "      flex-wrap:wrap;\n",
              "      gap: 12px;\n",
              "    }\n",
              "\n",
              "    .colab-df-convert {\n",
              "      background-color: #E8F0FE;\n",
              "      border: none;\n",
              "      border-radius: 50%;\n",
              "      cursor: pointer;\n",
              "      display: none;\n",
              "      fill: #1967D2;\n",
              "      height: 32px;\n",
              "      padding: 0 0 0 0;\n",
              "      width: 32px;\n",
              "    }\n",
              "\n",
              "    .colab-df-convert:hover {\n",
              "      background-color: #E2EBFA;\n",
              "      box-shadow: 0px 1px 2px rgba(60, 64, 67, 0.3), 0px 1px 3px 1px rgba(60, 64, 67, 0.15);\n",
              "      fill: #174EA6;\n",
              "    }\n",
              "\n",
              "    [theme=dark] .colab-df-convert {\n",
              "      background-color: #3B4455;\n",
              "      fill: #D2E3FC;\n",
              "    }\n",
              "\n",
              "    [theme=dark] .colab-df-convert:hover {\n",
              "      background-color: #434B5C;\n",
              "      box-shadow: 0px 1px 3px 1px rgba(0, 0, 0, 0.15);\n",
              "      filter: drop-shadow(0px 1px 2px rgba(0, 0, 0, 0.3));\n",
              "      fill: #FFFFFF;\n",
              "    }\n",
              "  </style>\n",
              "\n",
              "      <script>\n",
              "        const buttonEl =\n",
              "          document.querySelector('#df-a545cf41-10d0-4495-9281-c367005cb5c5 button.colab-df-convert');\n",
              "        buttonEl.style.display =\n",
              "          google.colab.kernel.accessAllowed ? 'block' : 'none';\n",
              "\n",
              "        async function convertToInteractive(key) {\n",
              "          const element = document.querySelector('#df-a545cf41-10d0-4495-9281-c367005cb5c5');\n",
              "          const dataTable =\n",
              "            await google.colab.kernel.invokeFunction('convertToInteractive',\n",
              "                                                     [key], {});\n",
              "          if (!dataTable) return;\n",
              "\n",
              "          const docLinkHtml = 'Like what you see? Visit the ' +\n",
              "            '<a target=\"_blank\" href=https://colab.research.google.com/notebooks/data_table.ipynb>data table notebook</a>'\n",
              "            + ' to learn more about interactive tables.';\n",
              "          element.innerHTML = '';\n",
              "          dataTable['output_type'] = 'display_data';\n",
              "          await google.colab.output.renderOutput(dataTable, element);\n",
              "          const docLink = document.createElement('div');\n",
              "          docLink.innerHTML = docLinkHtml;\n",
              "          element.appendChild(docLink);\n",
              "        }\n",
              "      </script>\n",
              "    </div>\n",
              "  </div>\n",
              "  "
            ]
          },
          "metadata": {},
          "execution_count": 26
        }
      ]
    },
    {
      "cell_type": "code",
      "source": [
        "#drop = ['6OL3', '3BWP', '4P95', '5ZAL', '2H0S', '5DI2', '6CB3','2IL9','1FFZ','4L81', '2KRL', '2N1Q', '5DUN' ]\n",
        "drop = ['6OL3', '3BWP', '4P95', '5ZAL', '2KRL', '2N1Q', '5DUN', '4R4V','5KPY','5OB3','2OIU','4PLX','5M0H','4R0D']"
      ],
      "metadata": {
        "id": "6-S12nTGQTdV"
      },
      "execution_count": null,
      "outputs": []
    },
    {
      "cell_type": "code",
      "source": [
        "#badPdbs = ['4RZD','4P95','4R4V','2KRL','1P6V','2N1Q','3BWP','2LC8','3T4B','6FZ0','3ZP8','4PLX','5M0H','4R0D','4GMA','5ZAL']"
      ],
      "metadata": {
        "id": "4udHNnMXYGve"
      },
      "execution_count": null,
      "outputs": []
    },
    {
      "cell_type": "code",
      "source": [
        "#list(set(drop).intersection(badPdbs))"
      ],
      "metadata": {
        "id": "FtortWQ8YJgL"
      },
      "execution_count": null,
      "outputs": []
    },
    {
      "cell_type": "code",
      "source": [
        "#list(set(drop)-set(badPdbs))"
      ],
      "metadata": {
        "id": "qMs8X3-bYczg"
      },
      "execution_count": null,
      "outputs": []
    },
    {
      "cell_type": "code",
      "source": [
        "test = ['1C2X', '1L9A',  '2MF0',  '2KE6', '4C4Q', '2NBX', '1S9S',  '6UES', '6QN3', '6HAG', '5DDP', '3NDB','4RZD','4PQV','1Z2J']#,'4C4Q'"
      ],
      "metadata": {
        "id": "cA1c7uMGQcIA"
      },
      "execution_count": null,
      "outputs": []
    },
    {
      "cell_type": "code",
      "source": [
        "df_dca = df_dca.loc[df_dca.file.isin(drop) == False]\n",
        "len(set(df_dca.file))"
      ],
      "metadata": {
        "colab": {
          "base_uri": "https://localhost:8080/"
        },
        "id": "biOygn_XQ55P",
        "outputId": "83034cdf-688f-4b92-890d-9552425801f6"
      },
      "execution_count": null,
      "outputs": [
        {
          "output_type": "execute_result",
          "data": {
            "text/plain": [
              "66"
            ]
          },
          "metadata": {},
          "execution_count": 32
        }
      ]
    },
    {
      "cell_type": "code",
      "source": [
        "df_test_dca = df_dca.loc[df_dca[\"file\"].isin(test)]\n",
        "df_train_dca = df_dca.loc[df_dca[\"file\"].isin(test) == False]"
      ],
      "metadata": {
        "id": "xhgasUWKQ6E3"
      },
      "execution_count": null,
      "outputs": []
    },
    {
      "cell_type": "code",
      "source": [
        "def make_array_dca(df_slice):\n",
        "    ef = df_slice\n",
        "    bondtype = ef.pop('bond_type')\n",
        "    ef.insert(loc = 27, column = 'bond_type', value = bondtype) #puts the label at the end of the array, need to adjust if addingMI or DCA to 27\n",
        "    ef.set_index('positions', inplace = True)\n",
        "    l = int(math.sqrt(len(ef)))\n",
        "    arr = np.ones([l, l, 27]) #change to 27 if including mi val or dca val\n",
        "    for i in range(l):\n",
        "        for j in range(l): \n",
        "            \n",
        "            arr[i,j,:] = ef.loc[str(i+1)+':'+str(j+1)][0:27] #change to 27 if including MI or DCA val \n",
        "    return arr\n",
        "\n",
        "\n",
        "\n",
        "def make_frames_dca(df):\n",
        "    frames = []\n",
        "    labels = []\n",
        "    for file in set(df['file']):\n",
        "        print(file)\n",
        "        arr = make_array_dca(df[df['file'] == file])\n",
        "        for x in range(len(arr)-11): #0-29\n",
        "            for y in range(len(arr)-11):\n",
        "                array_11x11x25 = arr[x:x+11,y:y+11,:-1] #drop the label, first array is arr[0:11], slice is not inclusive of 11\n",
        "                label = arr[x+5, y+5, -1] #make the label, in this case 0+5 = 5 which is index 6 \n",
        "                frames.append(array_11x11x25) \n",
        "                labels.append(label)\n",
        "    return frames, labels"
      ],
      "metadata": {
        "id": "9H-b-Dz0Q6G5"
      },
      "execution_count": null,
      "outputs": []
    },
    {
      "cell_type": "code",
      "source": [
        "frames_train_dca, labels_train_dca = make_frames_dca(df_train_dca)\n",
        "X_train_dca =  np.array(frames_train_dca, dtype = np.float32)\n",
        "y_flt_train_dca = np.array(labels_train_dca)\n",
        "y_train_dca = y_flt_train_dca.astype(int)\n",
        "y_train_dca[y_train_dca>0] = 1 #make binary problem\n",
        "set(y_train_dca)\n",
        "len(y_train_dca)"
      ],
      "metadata": {
        "colab": {
          "base_uri": "https://localhost:8080/"
        },
        "id": "4wF-9PC5Q6JB",
        "outputId": "03586160-3e47-42ef-9242-2ba3913ed2e1"
      },
      "execution_count": null,
      "outputs": [
        {
          "output_type": "stream",
          "name": "stdout",
          "text": [
            "4L81\n",
            "4RUM\n",
            "3NKB\n",
            "4K27\n",
            "4YAZ\n",
            "3RG5\n",
            "3ZP8\n",
            "1KXK\n",
            "3GX5\n",
            "3R4F\n",
            "3DIL\n",
            "5NWQ\n",
            "1P6V\n",
            "1Z43\n",
            "4LVV\n",
            "5LYS\n",
            "3SLQ\n",
            "3F2Q\n",
            "5DI2\n",
            "1GID\n",
            "5T5A\n",
            "2LC8\n",
            "4TZX\n",
            "3PDR\n",
            "3T4B\n",
            "3E5C\n",
            "4P5J\n",
            "5K7D\n",
            "5U3G\n",
            "4JF2\n",
            "4XWF\n",
            "4ENC\n",
            "3OX0\n",
            "1XJR\n",
            "4WFL\n",
            "6CU1\n",
            "4QLN\n",
            "3Q3Z\n",
            "4JRC\n",
            "1U9S\n",
            "4FRG\n",
            "4GMA\n",
            "6CB3\n",
            "6FZ0\n",
            "1FFZ\n",
            "2H0S\n",
            "1NBS\n",
            "1EHZ\n",
            "3D2G\n",
            "2IL9\n",
            "4Y1O\n"
          ]
        },
        {
          "output_type": "execute_result",
          "data": {
            "text/plain": [
              "643175"
            ]
          },
          "metadata": {},
          "execution_count": 35
        }
      ]
    },
    {
      "cell_type": "code",
      "source": [
        "frames_test_dca, labels_test_dca = make_frames_dca(df_test_dca)\n",
        "X_test_dca =  np.array(frames_test_dca, dtype = np.float32)\n",
        "y_flt_test_dca = np.array(labels_test_dca)\n",
        "y_test_dca = y_flt_test_dca.astype(int)\n",
        "y_test_dca[y_test_dca>0] = 1 #make binary problem\n",
        "set(y_test_dca)\n",
        "len(y_test_dca)"
      ],
      "metadata": {
        "colab": {
          "base_uri": "https://localhost:8080/"
        },
        "id": "Q9l0GeAvRTba",
        "outputId": "a95489b2-6e3e-4f63-9056-55ca1364a932"
      },
      "execution_count": null,
      "outputs": [
        {
          "output_type": "stream",
          "name": "stdout",
          "text": [
            "2KE6\n",
            "3NDB\n",
            "1C2X\n",
            "6QN3\n",
            "6UES\n",
            "1Z2J\n",
            "2NBX\n",
            "1S9S\n",
            "2MF0\n",
            "4C4Q\n",
            "4RZD\n",
            "1L9A\n",
            "6HAG\n",
            "5DDP\n",
            "4PQV\n"
          ]
        },
        {
          "output_type": "execute_result",
          "data": {
            "text/plain": [
              "141936"
            ]
          },
          "metadata": {},
          "execution_count": 36
        }
      ]
    },
    {
      "cell_type": "code",
      "source": [
        "np.bincount(y_test_dca\n",
        "            )"
      ],
      "metadata": {
        "colab": {
          "base_uri": "https://localhost:8080/"
        },
        "id": "9dL38HDTPIv_",
        "outputId": "ec62e317-1efa-48ac-f122-3cadabfa8e6f"
      },
      "execution_count": null,
      "outputs": [
        {
          "output_type": "execute_result",
          "data": {
            "text/plain": [
              "array([140550,   1386])"
            ]
          },
          "metadata": {},
          "execution_count": 37
        }
      ]
    },
    {
      "cell_type": "code",
      "source": [
        "df_puzzles = pd.read_csv('./drive/MyDrive/RF00622.csv', index_col=0)\n",
        "df_puzzles[['nuc1','nuc2']] =   df_puzzles['positions'].str.split(':', expand=True)\n",
        "nuc1 = df_puzzles.pop('nuc1')\n",
        "df_puzzles.insert(loc = 25, column = 'nuc1', value = nuc1)\n",
        "nuc2 = df_puzzles.pop('nuc2')\n",
        "df_puzzles.insert(loc = 26, column = 'nuc2', value = nuc2)\n",
        "df_puzzles.set_index('positions', inplace = True)\n",
        "df_puzzles.drop(df_puzzles.filter(regex=\"Unname\"),axis=1, inplace=True)"
      ],
      "metadata": {
        "id": "DkAzK7H-WYDA"
      },
      "execution_count": null,
      "outputs": []
    },
    {
      "cell_type": "code",
      "source": [
        "from google.colab import drive\n",
        "drive.mount('/content/drive')"
      ],
      "metadata": {
        "colab": {
          "base_uri": "https://localhost:8080/"
        },
        "id": "6VV2i_EEar4h",
        "outputId": "c360a3f7-f6d6-405e-b870-1896098e067d"
      },
      "execution_count": null,
      "outputs": [
        {
          "output_type": "stream",
          "name": "stdout",
          "text": [
            "Mounted at /content/drive\n"
          ]
        }
      ]
    },
    {
      "cell_type": "code",
      "source": [
        "def make_array_puzzles(df_slice):\n",
        "    ef = df_slice\n",
        "    # bondtype = ef.pop('bond_type')\n",
        "    # ef.insert(loc = 26, column = 'bond_type', value = bondtype) #puts the label at the end of the array, need to adjust if addingMI or DCA to 27\n",
        "    #ef.set_index('positions', inplace = True)\n",
        "    l = int(math.sqrt(len(ef)))\n",
        "    arr = np.ones([l, l, 27]) #change to 27 if including mi val or dca val\n",
        "    for i in range(l):\n",
        "        for j in range(l): \n",
        "            \n",
        "            arr[i,j,:] = ef.loc[str(i+1)+':'+str(j+1)][0:27] #change to 27 if including MI or DCA val \n",
        "    return arr\n",
        "\n",
        "def make_frames_puzzles(df):\n",
        "    frames = []\n",
        "    position1 = []\n",
        "    position2 = []\n",
        "    for file in set(df['file']):\n",
        "        #print(file)\n",
        "        arr = make_array_puzzles(df[df['file'] == file])\n",
        "        for x in range(len(arr)-11): #0-29\n",
        "            for y in range(len(arr)-11):\n",
        "                array_11x11x25 = arr[x:x+11,y:y+11,:-2] #drop the label, first array is arr[0:11], slice is not inclusive of 11\n",
        "                nuc2 = arr[x+5, y+5, -1]\n",
        "                nuc1 = arr[x+5, y+5, -2] \n",
        "                frames.append(array_11x11x25) \n",
        "                position1.append(nuc1)\n",
        "                position2.append(nuc2)\n",
        "    return frames, position1, position2\n",
        "\n"
      ],
      "metadata": {
        "id": "liE7KAlHZHrw"
      },
      "execution_count": null,
      "outputs": []
    },
    {
      "cell_type": "code",
      "source": [
        "frames_puzzles, nuc1, nuc2 = make_frames_puzzles(df_puzzles)\n",
        "X_puzzles =  np.array(frames_puzzles, dtype = np.float32)"
      ],
      "metadata": {
        "id": "7Z_oMPYxak6b"
      },
      "execution_count": null,
      "outputs": []
    },
    {
      "cell_type": "code",
      "source": [
        "df = pd.read_csv('./drive/MyDrive/labeleddinucfreq_may9.csv', index_col=0)"
      ],
      "metadata": {
        "id": "oU1jRwJRL_8o"
      },
      "execution_count": null,
      "outputs": []
    },
    {
      "cell_type": "code",
      "source": [
        "df['positions'] = df.index.str.slice(0,-4)\n",
        "df.rename(columns = {'file2':'file'}, inplace = True)\n",
        "file = df.pop('file')\n",
        "df.insert(loc = 27, column = 'file', value = file) #change to loc = 28 if using MI or DCA vals\n",
        "df"
      ],
      "metadata": {
        "colab": {
          "base_uri": "https://localhost:8080/",
          "height": 519
        },
        "id": "csE8O6HFN4ei",
        "outputId": "2ad9eebb-f642-4b2b-8f55-7b1ae0e60c07"
      },
      "execution_count": null,
      "outputs": [
        {
          "output_type": "execute_result",
          "data": {
            "text/plain": [
              "               GA      GG      GC      GU      G-      CC      CU      CG  \\\n",
              "index                                                                       \n",
              "1:13D2G    0.0000  0.0000  0.0000  0.0000  0.0000  0.0000  0.0000  0.0000   \n",
              "1:23D2G    0.0376  0.0187  0.0673  0.0752  0.0001  0.0286  0.0441  0.0407   \n",
              "1:33D2G    0.0635  0.0308  0.0563  0.0483  0.0000  0.0620  0.0436  0.0253   \n",
              "1:43D2G    0.0600  0.0362  0.0628  0.0393  0.0006  0.0465  0.0268  0.0431   \n",
              "1:53D2G    0.0399  0.0422  0.0820  0.0345  0.0002  0.0831  0.0325  0.0153   \n",
              "...           ...     ...     ...     ...     ...     ...     ...     ...   \n",
              "84:804FRG  0.5236  0.0047  0.0142  0.0425  0.0094  0.0094  0.0047  0.0047   \n",
              "84:814FRG  0.0330  0.0047  0.0094  0.0189  0.0000  0.0094  0.0094  0.0000   \n",
              "84:824FRG  0.0330  0.0047  0.0047  0.0094  0.0000  0.0094  0.0047  0.0000   \n",
              "84:834FRG  0.0566  0.0047  0.0142  0.0094  0.0000  0.0047  0.0094  0.0000   \n",
              "84:844FRG  0.0000  0.0000  0.0000  0.0000  0.0000  0.0000  0.0000  0.0000   \n",
              "\n",
              "               CA      C-  ...      AC      AA      --      -C      -U  \\\n",
              "index                      ...                                           \n",
              "1:13D2G    0.0000  0.0000  ...  0.0000  0.0000  0.0000  0.0000  0.0000   \n",
              "1:23D2G    0.0639  0.0000  ...  0.0931  0.0977  0.0150  0.0003  0.0000   \n",
              "1:33D2G    0.0465  0.0000  ...  0.1293  0.0779  0.0138  0.0002  0.0007   \n",
              "1:43D2G    0.0609  0.0000  ...  0.0650  0.1330  0.0129  0.0015  0.0006   \n",
              "1:53D2G    0.0465  0.0000  ...  0.1509  0.0814  0.0121  0.0018  0.0002   \n",
              "...           ...     ...  ...     ...     ...     ...     ...     ...   \n",
              "84:804FRG  0.0094  0.0000  ...  0.0189  0.1840  0.0425  0.0000  0.0094   \n",
              "84:814FRG  0.1462  0.0000  ...  0.0236  0.0377  0.0425  0.0000  0.0047   \n",
              "84:824FRG  0.0472  0.0000  ...  0.0236  0.5566  0.0425  0.0000  0.0000   \n",
              "84:834FRG  0.0660  0.0047  ...  0.0189  0.1934  0.0425  0.0000  0.0000   \n",
              "84:844FRG  0.0000  0.0000  ...  0.0000  0.0000  0.0000  0.0000  0.0000   \n",
              "\n",
              "               -G      -A  positions  bond_type  file  \n",
              "index                                                  \n",
              "1:13D2G    0.0000  0.0000        1:1          0  3D2G  \n",
              "1:23D2G    0.0003  0.0002        1:2          0  3D2G  \n",
              "1:33D2G    0.0001  0.0010        1:3          0  3D2G  \n",
              "1:43D2G    0.0002  0.0006        1:4          0  3D2G  \n",
              "1:53D2G    0.0009  0.0009        1:5          0  3D2G  \n",
              "...           ...     ...        ...        ...   ...  \n",
              "84:804FRG  0.0000  0.0000      84:80          0  4FRG  \n",
              "84:814FRG  0.0000  0.0000      84:81          0  4FRG  \n",
              "84:824FRG  0.0000  0.0000      84:82          0  4FRG  \n",
              "84:834FRG  0.0000  0.0047      84:83          0  4FRG  \n",
              "84:844FRG  0.0000  0.0000      84:84          0  4FRG  \n",
              "\n",
              "[1623417 rows x 28 columns]"
            ],
            "text/html": [
              "\n",
              "  <div id=\"df-5cd2625f-c3ee-4581-be9e-3629f177797c\">\n",
              "    <div class=\"colab-df-container\">\n",
              "      <div>\n",
              "<style scoped>\n",
              "    .dataframe tbody tr th:only-of-type {\n",
              "        vertical-align: middle;\n",
              "    }\n",
              "\n",
              "    .dataframe tbody tr th {\n",
              "        vertical-align: top;\n",
              "    }\n",
              "\n",
              "    .dataframe thead th {\n",
              "        text-align: right;\n",
              "    }\n",
              "</style>\n",
              "<table border=\"1\" class=\"dataframe\">\n",
              "  <thead>\n",
              "    <tr style=\"text-align: right;\">\n",
              "      <th></th>\n",
              "      <th>GA</th>\n",
              "      <th>GG</th>\n",
              "      <th>GC</th>\n",
              "      <th>GU</th>\n",
              "      <th>G-</th>\n",
              "      <th>CC</th>\n",
              "      <th>CU</th>\n",
              "      <th>CG</th>\n",
              "      <th>CA</th>\n",
              "      <th>C-</th>\n",
              "      <th>...</th>\n",
              "      <th>AC</th>\n",
              "      <th>AA</th>\n",
              "      <th>--</th>\n",
              "      <th>-C</th>\n",
              "      <th>-U</th>\n",
              "      <th>-G</th>\n",
              "      <th>-A</th>\n",
              "      <th>positions</th>\n",
              "      <th>bond_type</th>\n",
              "      <th>file</th>\n",
              "    </tr>\n",
              "    <tr>\n",
              "      <th>index</th>\n",
              "      <th></th>\n",
              "      <th></th>\n",
              "      <th></th>\n",
              "      <th></th>\n",
              "      <th></th>\n",
              "      <th></th>\n",
              "      <th></th>\n",
              "      <th></th>\n",
              "      <th></th>\n",
              "      <th></th>\n",
              "      <th></th>\n",
              "      <th></th>\n",
              "      <th></th>\n",
              "      <th></th>\n",
              "      <th></th>\n",
              "      <th></th>\n",
              "      <th></th>\n",
              "      <th></th>\n",
              "      <th></th>\n",
              "      <th></th>\n",
              "      <th></th>\n",
              "    </tr>\n",
              "  </thead>\n",
              "  <tbody>\n",
              "    <tr>\n",
              "      <th>1:13D2G</th>\n",
              "      <td>0.0000</td>\n",
              "      <td>0.0000</td>\n",
              "      <td>0.0000</td>\n",
              "      <td>0.0000</td>\n",
              "      <td>0.0000</td>\n",
              "      <td>0.0000</td>\n",
              "      <td>0.0000</td>\n",
              "      <td>0.0000</td>\n",
              "      <td>0.0000</td>\n",
              "      <td>0.0000</td>\n",
              "      <td>...</td>\n",
              "      <td>0.0000</td>\n",
              "      <td>0.0000</td>\n",
              "      <td>0.0000</td>\n",
              "      <td>0.0000</td>\n",
              "      <td>0.0000</td>\n",
              "      <td>0.0000</td>\n",
              "      <td>0.0000</td>\n",
              "      <td>1:1</td>\n",
              "      <td>0</td>\n",
              "      <td>3D2G</td>\n",
              "    </tr>\n",
              "    <tr>\n",
              "      <th>1:23D2G</th>\n",
              "      <td>0.0376</td>\n",
              "      <td>0.0187</td>\n",
              "      <td>0.0673</td>\n",
              "      <td>0.0752</td>\n",
              "      <td>0.0001</td>\n",
              "      <td>0.0286</td>\n",
              "      <td>0.0441</td>\n",
              "      <td>0.0407</td>\n",
              "      <td>0.0639</td>\n",
              "      <td>0.0000</td>\n",
              "      <td>...</td>\n",
              "      <td>0.0931</td>\n",
              "      <td>0.0977</td>\n",
              "      <td>0.0150</td>\n",
              "      <td>0.0003</td>\n",
              "      <td>0.0000</td>\n",
              "      <td>0.0003</td>\n",
              "      <td>0.0002</td>\n",
              "      <td>1:2</td>\n",
              "      <td>0</td>\n",
              "      <td>3D2G</td>\n",
              "    </tr>\n",
              "    <tr>\n",
              "      <th>1:33D2G</th>\n",
              "      <td>0.0635</td>\n",
              "      <td>0.0308</td>\n",
              "      <td>0.0563</td>\n",
              "      <td>0.0483</td>\n",
              "      <td>0.0000</td>\n",
              "      <td>0.0620</td>\n",
              "      <td>0.0436</td>\n",
              "      <td>0.0253</td>\n",
              "      <td>0.0465</td>\n",
              "      <td>0.0000</td>\n",
              "      <td>...</td>\n",
              "      <td>0.1293</td>\n",
              "      <td>0.0779</td>\n",
              "      <td>0.0138</td>\n",
              "      <td>0.0002</td>\n",
              "      <td>0.0007</td>\n",
              "      <td>0.0001</td>\n",
              "      <td>0.0010</td>\n",
              "      <td>1:3</td>\n",
              "      <td>0</td>\n",
              "      <td>3D2G</td>\n",
              "    </tr>\n",
              "    <tr>\n",
              "      <th>1:43D2G</th>\n",
              "      <td>0.0600</td>\n",
              "      <td>0.0362</td>\n",
              "      <td>0.0628</td>\n",
              "      <td>0.0393</td>\n",
              "      <td>0.0006</td>\n",
              "      <td>0.0465</td>\n",
              "      <td>0.0268</td>\n",
              "      <td>0.0431</td>\n",
              "      <td>0.0609</td>\n",
              "      <td>0.0000</td>\n",
              "      <td>...</td>\n",
              "      <td>0.0650</td>\n",
              "      <td>0.1330</td>\n",
              "      <td>0.0129</td>\n",
              "      <td>0.0015</td>\n",
              "      <td>0.0006</td>\n",
              "      <td>0.0002</td>\n",
              "      <td>0.0006</td>\n",
              "      <td>1:4</td>\n",
              "      <td>0</td>\n",
              "      <td>3D2G</td>\n",
              "    </tr>\n",
              "    <tr>\n",
              "      <th>1:53D2G</th>\n",
              "      <td>0.0399</td>\n",
              "      <td>0.0422</td>\n",
              "      <td>0.0820</td>\n",
              "      <td>0.0345</td>\n",
              "      <td>0.0002</td>\n",
              "      <td>0.0831</td>\n",
              "      <td>0.0325</td>\n",
              "      <td>0.0153</td>\n",
              "      <td>0.0465</td>\n",
              "      <td>0.0000</td>\n",
              "      <td>...</td>\n",
              "      <td>0.1509</td>\n",
              "      <td>0.0814</td>\n",
              "      <td>0.0121</td>\n",
              "      <td>0.0018</td>\n",
              "      <td>0.0002</td>\n",
              "      <td>0.0009</td>\n",
              "      <td>0.0009</td>\n",
              "      <td>1:5</td>\n",
              "      <td>0</td>\n",
              "      <td>3D2G</td>\n",
              "    </tr>\n",
              "    <tr>\n",
              "      <th>...</th>\n",
              "      <td>...</td>\n",
              "      <td>...</td>\n",
              "      <td>...</td>\n",
              "      <td>...</td>\n",
              "      <td>...</td>\n",
              "      <td>...</td>\n",
              "      <td>...</td>\n",
              "      <td>...</td>\n",
              "      <td>...</td>\n",
              "      <td>...</td>\n",
              "      <td>...</td>\n",
              "      <td>...</td>\n",
              "      <td>...</td>\n",
              "      <td>...</td>\n",
              "      <td>...</td>\n",
              "      <td>...</td>\n",
              "      <td>...</td>\n",
              "      <td>...</td>\n",
              "      <td>...</td>\n",
              "      <td>...</td>\n",
              "      <td>...</td>\n",
              "    </tr>\n",
              "    <tr>\n",
              "      <th>84:804FRG</th>\n",
              "      <td>0.5236</td>\n",
              "      <td>0.0047</td>\n",
              "      <td>0.0142</td>\n",
              "      <td>0.0425</td>\n",
              "      <td>0.0094</td>\n",
              "      <td>0.0094</td>\n",
              "      <td>0.0047</td>\n",
              "      <td>0.0047</td>\n",
              "      <td>0.0094</td>\n",
              "      <td>0.0000</td>\n",
              "      <td>...</td>\n",
              "      <td>0.0189</td>\n",
              "      <td>0.1840</td>\n",
              "      <td>0.0425</td>\n",
              "      <td>0.0000</td>\n",
              "      <td>0.0094</td>\n",
              "      <td>0.0000</td>\n",
              "      <td>0.0000</td>\n",
              "      <td>84:80</td>\n",
              "      <td>0</td>\n",
              "      <td>4FRG</td>\n",
              "    </tr>\n",
              "    <tr>\n",
              "      <th>84:814FRG</th>\n",
              "      <td>0.0330</td>\n",
              "      <td>0.0047</td>\n",
              "      <td>0.0094</td>\n",
              "      <td>0.0189</td>\n",
              "      <td>0.0000</td>\n",
              "      <td>0.0094</td>\n",
              "      <td>0.0094</td>\n",
              "      <td>0.0000</td>\n",
              "      <td>0.1462</td>\n",
              "      <td>0.0000</td>\n",
              "      <td>...</td>\n",
              "      <td>0.0236</td>\n",
              "      <td>0.0377</td>\n",
              "      <td>0.0425</td>\n",
              "      <td>0.0000</td>\n",
              "      <td>0.0047</td>\n",
              "      <td>0.0000</td>\n",
              "      <td>0.0000</td>\n",
              "      <td>84:81</td>\n",
              "      <td>0</td>\n",
              "      <td>4FRG</td>\n",
              "    </tr>\n",
              "    <tr>\n",
              "      <th>84:824FRG</th>\n",
              "      <td>0.0330</td>\n",
              "      <td>0.0047</td>\n",
              "      <td>0.0047</td>\n",
              "      <td>0.0094</td>\n",
              "      <td>0.0000</td>\n",
              "      <td>0.0094</td>\n",
              "      <td>0.0047</td>\n",
              "      <td>0.0000</td>\n",
              "      <td>0.0472</td>\n",
              "      <td>0.0000</td>\n",
              "      <td>...</td>\n",
              "      <td>0.0236</td>\n",
              "      <td>0.5566</td>\n",
              "      <td>0.0425</td>\n",
              "      <td>0.0000</td>\n",
              "      <td>0.0000</td>\n",
              "      <td>0.0000</td>\n",
              "      <td>0.0000</td>\n",
              "      <td>84:82</td>\n",
              "      <td>0</td>\n",
              "      <td>4FRG</td>\n",
              "    </tr>\n",
              "    <tr>\n",
              "      <th>84:834FRG</th>\n",
              "      <td>0.0566</td>\n",
              "      <td>0.0047</td>\n",
              "      <td>0.0142</td>\n",
              "      <td>0.0094</td>\n",
              "      <td>0.0000</td>\n",
              "      <td>0.0047</td>\n",
              "      <td>0.0094</td>\n",
              "      <td>0.0000</td>\n",
              "      <td>0.0660</td>\n",
              "      <td>0.0047</td>\n",
              "      <td>...</td>\n",
              "      <td>0.0189</td>\n",
              "      <td>0.1934</td>\n",
              "      <td>0.0425</td>\n",
              "      <td>0.0000</td>\n",
              "      <td>0.0000</td>\n",
              "      <td>0.0000</td>\n",
              "      <td>0.0047</td>\n",
              "      <td>84:83</td>\n",
              "      <td>0</td>\n",
              "      <td>4FRG</td>\n",
              "    </tr>\n",
              "    <tr>\n",
              "      <th>84:844FRG</th>\n",
              "      <td>0.0000</td>\n",
              "      <td>0.0000</td>\n",
              "      <td>0.0000</td>\n",
              "      <td>0.0000</td>\n",
              "      <td>0.0000</td>\n",
              "      <td>0.0000</td>\n",
              "      <td>0.0000</td>\n",
              "      <td>0.0000</td>\n",
              "      <td>0.0000</td>\n",
              "      <td>0.0000</td>\n",
              "      <td>...</td>\n",
              "      <td>0.0000</td>\n",
              "      <td>0.0000</td>\n",
              "      <td>0.0000</td>\n",
              "      <td>0.0000</td>\n",
              "      <td>0.0000</td>\n",
              "      <td>0.0000</td>\n",
              "      <td>0.0000</td>\n",
              "      <td>84:84</td>\n",
              "      <td>0</td>\n",
              "      <td>4FRG</td>\n",
              "    </tr>\n",
              "  </tbody>\n",
              "</table>\n",
              "<p>1623417 rows × 28 columns</p>\n",
              "</div>\n",
              "      <button class=\"colab-df-convert\" onclick=\"convertToInteractive('df-5cd2625f-c3ee-4581-be9e-3629f177797c')\"\n",
              "              title=\"Convert this dataframe to an interactive table.\"\n",
              "              style=\"display:none;\">\n",
              "        \n",
              "  <svg xmlns=\"http://www.w3.org/2000/svg\" height=\"24px\"viewBox=\"0 0 24 24\"\n",
              "       width=\"24px\">\n",
              "    <path d=\"M0 0h24v24H0V0z\" fill=\"none\"/>\n",
              "    <path d=\"M18.56 5.44l.94 2.06.94-2.06 2.06-.94-2.06-.94-.94-2.06-.94 2.06-2.06.94zm-11 1L8.5 8.5l.94-2.06 2.06-.94-2.06-.94L8.5 2.5l-.94 2.06-2.06.94zm10 10l.94 2.06.94-2.06 2.06-.94-2.06-.94-.94-2.06-.94 2.06-2.06.94z\"/><path d=\"M17.41 7.96l-1.37-1.37c-.4-.4-.92-.59-1.43-.59-.52 0-1.04.2-1.43.59L10.3 9.45l-7.72 7.72c-.78.78-.78 2.05 0 2.83L4 21.41c.39.39.9.59 1.41.59.51 0 1.02-.2 1.41-.59l7.78-7.78 2.81-2.81c.8-.78.8-2.07 0-2.86zM5.41 20L4 18.59l7.72-7.72 1.47 1.35L5.41 20z\"/>\n",
              "  </svg>\n",
              "      </button>\n",
              "      \n",
              "  <style>\n",
              "    .colab-df-container {\n",
              "      display:flex;\n",
              "      flex-wrap:wrap;\n",
              "      gap: 12px;\n",
              "    }\n",
              "\n",
              "    .colab-df-convert {\n",
              "      background-color: #E8F0FE;\n",
              "      border: none;\n",
              "      border-radius: 50%;\n",
              "      cursor: pointer;\n",
              "      display: none;\n",
              "      fill: #1967D2;\n",
              "      height: 32px;\n",
              "      padding: 0 0 0 0;\n",
              "      width: 32px;\n",
              "    }\n",
              "\n",
              "    .colab-df-convert:hover {\n",
              "      background-color: #E2EBFA;\n",
              "      box-shadow: 0px 1px 2px rgba(60, 64, 67, 0.3), 0px 1px 3px 1px rgba(60, 64, 67, 0.15);\n",
              "      fill: #174EA6;\n",
              "    }\n",
              "\n",
              "    [theme=dark] .colab-df-convert {\n",
              "      background-color: #3B4455;\n",
              "      fill: #D2E3FC;\n",
              "    }\n",
              "\n",
              "    [theme=dark] .colab-df-convert:hover {\n",
              "      background-color: #434B5C;\n",
              "      box-shadow: 0px 1px 3px 1px rgba(0, 0, 0, 0.15);\n",
              "      filter: drop-shadow(0px 1px 2px rgba(0, 0, 0, 0.3));\n",
              "      fill: #FFFFFF;\n",
              "    }\n",
              "  </style>\n",
              "\n",
              "      <script>\n",
              "        const buttonEl =\n",
              "          document.querySelector('#df-5cd2625f-c3ee-4581-be9e-3629f177797c button.colab-df-convert');\n",
              "        buttonEl.style.display =\n",
              "          google.colab.kernel.accessAllowed ? 'block' : 'none';\n",
              "\n",
              "        async function convertToInteractive(key) {\n",
              "          const element = document.querySelector('#df-5cd2625f-c3ee-4581-be9e-3629f177797c');\n",
              "          const dataTable =\n",
              "            await google.colab.kernel.invokeFunction('convertToInteractive',\n",
              "                                                     [key], {});\n",
              "          if (!dataTable) return;\n",
              "\n",
              "          const docLinkHtml = 'Like what you see? Visit the ' +\n",
              "            '<a target=\"_blank\" href=https://colab.research.google.com/notebooks/data_table.ipynb>data table notebook</a>'\n",
              "            + ' to learn more about interactive tables.';\n",
              "          element.innerHTML = '';\n",
              "          dataTable['output_type'] = 'display_data';\n",
              "          await google.colab.output.renderOutput(dataTable, element);\n",
              "          const docLink = document.createElement('div');\n",
              "          docLink.innerHTML = docLinkHtml;\n",
              "          element.appendChild(docLink);\n",
              "        }\n",
              "      </script>\n",
              "    </div>\n",
              "  </div>\n",
              "  "
            ]
          },
          "metadata": {},
          "execution_count": 42
        }
      ]
    },
    {
      "cell_type": "code",
      "source": [
        "def make_array(df_slice):\n",
        "    ef = df_slice\n",
        "    bondtype = ef.pop('bond_type')\n",
        "    ef.insert(loc = 26, column = 'bond_type', value = bondtype) #puts the label at the end of the array, need to adjust if addingMI or DCA to 27\n",
        "    ef.set_index('positions', inplace = True)\n",
        "    l = int(math.sqrt(len(ef)))\n",
        "    arr = np.ones([l, l, 26]) #change to 27 if including mi val or dca val\n",
        "    for i in range(l):\n",
        "        for j in range(l): \n",
        "            \n",
        "            arr[i,j,:] = ef.loc[str(i+1)+':'+str(j+1)][0:26] #change to 27 if including MI or DCA val \n",
        "    return arr\n",
        "\n",
        "\n",
        "\n",
        "def make_frames(df):\n",
        "    frames = []\n",
        "    labels = []\n",
        "    for file in set(df['file']):\n",
        "        #print(file)\n",
        "        arr = make_array(df[df['file'] == file])\n",
        "        for x in range(len(arr)-11): #0-29\n",
        "            for y in range(len(arr)-11):\n",
        "                array_11x11x25 = arr[x:x+11,y:y+11,:-1] #drop the label, first array is arr[0:11], slice is not inclusive of 11\n",
        "                label = arr[x+5, y+5, -1] #make the label, in this case 0+5 = 5 which is index 6 \n",
        "                frames.append(array_11x11x25) \n",
        "                labels.append(label)\n",
        "    return frames, labels"
      ],
      "metadata": {
        "id": "hvxI6U5lPcCG"
      },
      "execution_count": null,
      "outputs": []
    },
    {
      "cell_type": "code",
      "source": [
        "df = df.loc[df.file.isin(drop) == False]\n",
        "len(set(df.file))"
      ],
      "metadata": {
        "colab": {
          "base_uri": "https://localhost:8080/"
        },
        "id": "HkQRoWPHN4tY",
        "outputId": "05de50e1-07dd-4f39-9692-3e0cfc3b20e9"
      },
      "execution_count": null,
      "outputs": [
        {
          "output_type": "execute_result",
          "data": {
            "text/plain": [
              "66"
            ]
          },
          "metadata": {},
          "execution_count": 44
        }
      ]
    },
    {
      "cell_type": "code",
      "source": [
        "df_test = df.loc[df[\"file\"].isin(test)]\n",
        "df_train = df.loc[df[\"file\"].isin(test) == False]"
      ],
      "metadata": {
        "id": "EA0zoukPN4v-"
      },
      "execution_count": null,
      "outputs": []
    },
    {
      "cell_type": "code",
      "source": [
        "frames_train, labels_train = make_frames(df_train)\n",
        "X_train =  np.array(frames_train, dtype = np.float32)\n",
        "y_flt_train = np.array(labels_train)\n",
        "y_train = y_flt_train.astype(int)\n",
        "y_train[y_train>0] = 1 #make binary problem\n",
        "set(y_train)\n",
        "len(y_train)\n",
        "np.bincount(y_test_dca)"
      ],
      "metadata": {
        "colab": {
          "base_uri": "https://localhost:8080/"
        },
        "id": "UDvYJOmNN4or",
        "outputId": "987f1a9f-6dc8-40fb-c7b6-1cf78b2d53e8"
      },
      "execution_count": null,
      "outputs": [
        {
          "output_type": "execute_result",
          "data": {
            "text/plain": [
              "array([140550,   1386])"
            ]
          },
          "metadata": {},
          "execution_count": 46
        }
      ]
    },
    {
      "cell_type": "code",
      "source": [
        ""
      ],
      "metadata": {
        "id": "uMFcJasrkrRN"
      },
      "execution_count": null,
      "outputs": []
    },
    {
      "cell_type": "code",
      "source": [
        "frames_test, labels_test = make_frames(df_test)\n",
        "X_test =  np.array(frames_test, dtype = np.float32)\n",
        "y_flt_test = np.array(labels_test)\n",
        "y_test = y_flt_test.astype(int)\n",
        "y_test[y_test>0] = 1 #make binary problem\n",
        "set(y_test)\n",
        "len(y_test)\n",
        "np.bincount(y_test)"
      ],
      "metadata": {
        "colab": {
          "base_uri": "https://localhost:8080/"
        },
        "id": "6CI0YmwlN4yE",
        "outputId": "531dbecc-623e-49fb-bead-ef918fd969a2"
      },
      "execution_count": null,
      "outputs": [
        {
          "output_type": "execute_result",
          "data": {
            "text/plain": [
              "array([140550,   1386])"
            ]
          },
          "metadata": {},
          "execution_count": 47
        }
      ]
    },
    {
      "cell_type": "code",
      "source": [
        "neg, pos = np.bincount(y_train)+np.bincount(y_test) \n",
        "total = neg + pos\n",
        "print('Examples:\\n    Total: {}\\n    Positive: {} ({:.2f}% of total)\\n'.format(\n",
        "    total, pos, 100 * pos / total))"
      ],
      "metadata": {
        "colab": {
          "base_uri": "https://localhost:8080/"
        },
        "id": "h4_O_EtLN408",
        "outputId": "a4cd2e7c-2e6a-41ac-ecea-15e4d1525288"
      },
      "execution_count": null,
      "outputs": [
        {
          "output_type": "stream",
          "name": "stdout",
          "text": [
            "Examples:\n",
            "    Total: 785111\n",
            "    Positive: 6654 (0.85% of total)\n",
            "\n"
          ]
        }
      ]
    },
    {
      "cell_type": "code",
      "source": [
        ""
      ],
      "metadata": {
        "id": "1bvKz3wXN43p"
      },
      "execution_count": null,
      "outputs": []
    },
    {
      "cell_type": "code",
      "source": [
        ""
      ],
      "metadata": {
        "id": "j3N_8s-qN46Z"
      },
      "execution_count": null,
      "outputs": []
    },
    {
      "cell_type": "code",
      "source": [
        " #SCF: This dies with a file not found error for me.\n",
        " #once drive is mounted then you must specify your path to the data \n",
        "#you may need to pay for a high-RAM runtime by signing up for google colab pro+ if you run this in colab. there is a lot of data being read in\n",
        "# dict_train = load('./drive/MyDrive/dca_frame_may_7/dca_frames_train.npz')\n",
        "# X_train = dict_train['arr_0']\n",
        "# y_flt_train = load('./drive/MyDrive/dca_frame_may_7/dca_labels_train.npy')\n",
        "# y_train = y_flt_train.astype(int)\n",
        "# y_train[y_train>0] = 1 #make binary problem\n",
        "# set(y_train)\n",
        "# len(y_train)\n",
        "\n",
        "# dict_test = load('./drive/MyDrive/dca_frame_may_7/dca_frames_test.npz')\n",
        "# X_test = dict_test['arr_0']\n",
        "# y_flt_test = load('./drive/MyDrive/dca_frame_may_7/dca_labels_test.npy')\n",
        "# y_test = y_flt_test.astype(int)\n",
        "# y_test[y_test>0] = 1 #make binary problem\n",
        "\n",
        "# len(y_test)\n",
        "\n",
        "# neg, pos = np.bincount(y_train)+np.bincount(y_test) \n",
        "# total = neg + pos\n",
        "# print('Examples:\\n    Total: {}\\n    Positive: {} ({:.2f}% of total)\\n'.format(\n",
        "#     total, pos, 100 * pos / total))"
      ],
      "metadata": {
        "id": "NMVOwzZHtl7p"
      },
      "execution_count": null,
      "outputs": []
    },
    {
      "cell_type": "code",
      "source": [
        "print('Training labels shape:', y_train.shape)\n",
        "print('Test labels shape:', y_test.shape)\n",
        "\n",
        "print('Training features shape:', X_train.shape)\n",
        "print('Test features shape:', X_test.shape)"
      ],
      "metadata": {
        "colab": {
          "base_uri": "https://localhost:8080/"
        },
        "id": "9vRS4adetxDK",
        "outputId": "a4d0d64d-43a9-40ef-c2f8-0ef12f543cbb"
      },
      "execution_count": null,
      "outputs": [
        {
          "output_type": "stream",
          "name": "stdout",
          "text": [
            "Training labels shape: (643175,)\n",
            "Test labels shape: (141936,)\n",
            "Training features shape: (643175, 11, 11, 25)\n",
            "Test features shape: (141936, 11, 11, 25)\n"
          ]
        }
      ]
    },
    {
      "cell_type": "code",
      "source": [
        "METRICS = [\n",
        "      keras.metrics.TruePositives(name='tp'),\n",
        "      keras.metrics.FalsePositives(name='fp'),\n",
        "      keras.metrics.TrueNegatives(name='tn'),\n",
        "      keras.metrics.FalseNegatives(name='fn'), \n",
        "      keras.metrics.BinaryAccuracy(name='accuracy'),\n",
        "      keras.metrics.Precision(name='precision'),\n",
        "      keras.metrics.Recall(name='recall'),\n",
        "      keras.metrics.AUC(name='auc'),\n",
        "      keras.metrics.AUC(name='prc', curve='PR'), # precision-recall curve\n",
        "]\n",
        "#add resnet layers \n",
        "#increase input size by two and use dilation\n",
        "def make_model(metrics=METRICS,output_bias=None):\n",
        "  if output_bias is not None:\n",
        "    output_bias = tf.keras.initializers.Constant(output_bias)\n",
        "  \n",
        "  model = tf.keras.models.Sequential([\n",
        "    # Note the input shape is the desired size of the image 11x11 with 25 bytes color\n",
        "    # This is the first convolution\n",
        "    tf.keras.layers.Conv2D(8, (3,3), activation='relu', input_shape=(11, 11, 25)), #change to 11x11x26 if adding dca values to dinuc frequencies\n",
        "    tf.keras.layers.MaxPooling2D(2, 2),\n",
        "    tf.keras.layers.Dropout(0.25),\n",
        "    # The second convolution\n",
        "    tf.keras.layers.Conv2D(32, (3,3), activation='relu'),\n",
        "    tf.keras.layers.MaxPooling2D(2,2),\n",
        "    tf.keras.layers.Dropout(0.25),\n",
        "    # Flatten the results to feed into a DNN\n",
        "    tf.keras.layers.Flatten(),\n",
        "    # 512 neuron hidden layer\n",
        "    tf.keras.layers.Dense(224, activation='relu', bias_initializer=output_bias),\n",
        "    tf.keras.layers.Dropout(0.5),\n",
        "    # Only 1 output neuron. It will contain a value from 0-1 where 0 for class ('not contact') and 1 for the other ('contact')\n",
        "    tf.keras.layers.Dense(1, activation='sigmoid')\n",
        "  ])\n",
        "\n",
        "  model.compile(\n",
        "    optimizer=keras.optimizers.Adam(learning_rate=1e-3), #optimizer=RMSprop(lr=0.001),\n",
        "    loss=keras.losses.BinaryCrossentropy(),\n",
        "    metrics=metrics)\n",
        "\n",
        "  return model"
      ],
      "metadata": {
        "id": "ZmunV1BMuifg"
      },
      "execution_count": null,
      "outputs": []
    },
    {
      "cell_type": "code",
      "source": [
        "METRICS = [\n",
        "      keras.metrics.TruePositives(name='tp'),\n",
        "      keras.metrics.FalsePositives(name='fp'),\n",
        "      keras.metrics.TrueNegatives(name='tn'),\n",
        "      keras.metrics.FalseNegatives(name='fn'), \n",
        "      keras.metrics.BinaryAccuracy(name='accuracy'),\n",
        "      keras.metrics.Precision(name='precision'),\n",
        "      keras.metrics.Recall(name='recall'),\n",
        "      keras.metrics.AUC(name='auc'),\n",
        "      keras.metrics.AUC(name='prc', curve='PR'), # precision-recall curve\n",
        "]\n",
        "#add resnet layers \n",
        "#increase input size by two and use dilation\n",
        "def make_model_dca(metrics=METRICS,output_bias=None):\n",
        "  if output_bias is not None:\n",
        "    output_bias = tf.keras.initializers.Constant(output_bias)\n",
        "  \n",
        "  model = tf.keras.models.Sequential([\n",
        "    # Note the input shape is the desired size of the image 11x11 with 25 bytes color\n",
        "    # This is the first convolution\n",
        "    tf.keras.layers.Conv2D(8, (3,3), activation='relu', input_shape=(11, 11, 26)), #change to 11x11x26 if adding dca values to dinuc frequencies\n",
        "    tf.keras.layers.MaxPooling2D(2, 2),\n",
        "    tf.keras.layers.Dropout(0.25),\n",
        "    # The second convolution\n",
        "    tf.keras.layers.Conv2D(32, (3,3), activation='relu'),\n",
        "    tf.keras.layers.MaxPooling2D(2,2),\n",
        "    tf.keras.layers.Dropout(0.25),\n",
        "    # Flatten the results to feed into a DNN\n",
        "    tf.keras.layers.Flatten(),\n",
        "    # 512 neuron hidden layer\n",
        "    tf.keras.layers.Dense(224, activation='relu', bias_initializer=output_bias),\n",
        "    tf.keras.layers.Dropout(0.5),\n",
        "    # Only 1 output neuron. It will contain a value from 0-1 where 0 for class ('not contact') and 1 for the other ('contact')\n",
        "    tf.keras.layers.Dense(1, activation='sigmoid')\n",
        "  ])\n",
        "\n",
        "  model.compile(\n",
        "    optimizer=keras.optimizers.Adam(learning_rate=1e-3), #optimizer=RMSprop(lr=0.001),\n",
        "    loss=keras.losses.BinaryCrossentropy(),\n",
        "    metrics=metrics)\n",
        "\n",
        "  return model"
      ],
      "metadata": {
        "id": "2ORHVaGbS3cS"
      },
      "execution_count": null,
      "outputs": []
    },
    {
      "cell_type": "code",
      "source": [
        "# METRICS = [\n",
        "#       keras.metrics.TruePositives(name='tp'),\n",
        "#       keras.metrics.FalsePositives(name='fp'),\n",
        "#       keras.metrics.TrueNegatives(name='tn'),\n",
        "#       keras.metrics.FalseNegatives(name='fn'), \n",
        "#       keras.metrics.BinaryAccuracy(name='accuracy'),\n",
        "#       keras.metrics.Precision(name='precision'),\n",
        "#       keras.metrics.Recall(name='recall'),\n",
        "#       keras.metrics.AUC(name='auc'),\n",
        "#       keras.metrics.AUC(name='prc', curve='PR'), # precision-recall curve\n",
        "# ]\n",
        "\n",
        "# def make_model(hp, metrics=METRICS):\n",
        "  \n",
        "#   model = tf.keras.models.Sequential([\n",
        "#     # Note the input shape is the desired size of the image 11x11 with 25 bytes color\n",
        "#     # This is the first convolution\n",
        "#     tf.keras.layers.Conv2D(hp.Int(\"conv_1\", min_value=8, max_value=24, step=8),\n",
        "# \t\t(3, 3), input_shape=(11, 11, 26)), #change to 11x11x26 if adding dca values to dinuc frequencies\n",
        "#     tf.keras.layers.MaxPooling2D(2, 2),\n",
        "#     tf.keras.layers.Dropout(0.25),\n",
        "#     # The second convolution\n",
        "#     tf.keras.layers.Conv2D(hp.Int(\"conv_2\", min_value=16, max_value=48, step=16),\n",
        "# \t\t(3, 3),  input_shape=(11, 11, 26)),\n",
        "#     tf.keras.layers.MaxPooling2D(2,2),\n",
        "#     tf.keras.layers.Dropout(0.25),\n",
        "#     # Flatten the results to feed into a DNN\n",
        "#     tf.keras.layers.Flatten(),\n",
        "#     # 512 neuron hidden layer\n",
        "#     tf.keras.layers.Dense(hp.Int(\"dense_units\", min_value=112,\n",
        "# \t\tmax_value=336, step=112), activation='relu', bias_initializer=None),\n",
        "#     tf.keras.layers.Dropout(0.5),\n",
        "#     # Only 1 output neuron. It will contain a value from 0-1 where 0 for class ('not contact') and 1 for the other ('contact')\n",
        "#     tf.keras.layers.Dense(1, activation='sigmoid')\n",
        "#  ])\n",
        "\n",
        "#   model.compile(\n",
        "#     optimizer=keras.optimizers.Adam(hp.Choice(\"learning_rate\",\n",
        "# \t\tvalues=[1e-3])), #optimizer=RMSprop(lr=0.001),\n",
        "#     loss=keras.losses.BinaryCrossentropy(),\n",
        "#     metrics=metrics)\n",
        "\n",
        "#   return model\n",
        "# tuner = kt.Hyperband(\n",
        "# \t\tmake_model,\n",
        "# \t\tobjective=kt.Objective(\"val_prc\", direction=\"max\"),\n",
        "# \t\tmax_epochs=EPOCHS,\n",
        "# \t\tfactor=3,\n",
        "# \t\tseed=42,\n",
        "#     directory = 'tune_dir3',\n",
        "#     project_name = 'tuner3'\n",
        "# \t\t)\n",
        "# tuner.search(X_train, y_train, epochs=50, validation_split=0.2, callbacks=[early_stopping])\n",
        "# # Get the optimal hyperparameters\n",
        "# #print(tuner.get_best_hyperparameters(num_trials=1)[0])\n",
        "\n"
      ],
      "metadata": {
        "id": "WYdFTqHTGOpI"
      },
      "execution_count": null,
      "outputs": []
    },
    {
      "cell_type": "code",
      "source": [
        "model = make_model()\n",
        "model.summary()"
      ],
      "metadata": {
        "colab": {
          "base_uri": "https://localhost:8080/"
        },
        "id": "PiZ2KvQyupVB",
        "outputId": "67b11fcd-6ee1-4ad0-cbcd-495c12cee95f"
      },
      "execution_count": null,
      "outputs": [
        {
          "output_type": "stream",
          "name": "stdout",
          "text": [
            "Model: \"sequential_3\"\n",
            "_________________________________________________________________\n",
            " Layer (type)                Output Shape              Param #   \n",
            "=================================================================\n",
            " conv2d_6 (Conv2D)           (None, 9, 9, 8)           1808      \n",
            "                                                                 \n",
            " max_pooling2d_6 (MaxPooling  (None, 4, 4, 8)          0         \n",
            " 2D)                                                             \n",
            "                                                                 \n",
            " dropout_9 (Dropout)         (None, 4, 4, 8)           0         \n",
            "                                                                 \n",
            " conv2d_7 (Conv2D)           (None, 2, 2, 32)          2336      \n",
            "                                                                 \n",
            " max_pooling2d_7 (MaxPooling  (None, 1, 1, 32)         0         \n",
            " 2D)                                                             \n",
            "                                                                 \n",
            " dropout_10 (Dropout)        (None, 1, 1, 32)          0         \n",
            "                                                                 \n",
            " flatten_3 (Flatten)         (None, 32)                0         \n",
            "                                                                 \n",
            " dense_6 (Dense)             (None, 224)               7392      \n",
            "                                                                 \n",
            " dropout_11 (Dropout)        (None, 224)               0         \n",
            "                                                                 \n",
            " dense_7 (Dense)             (None, 1)                 225       \n",
            "                                                                 \n",
            "=================================================================\n",
            "Total params: 11,761\n",
            "Trainable params: 11,761\n",
            "Non-trainable params: 0\n",
            "_________________________________________________________________\n"
          ]
        }
      ]
    },
    {
      "cell_type": "code",
      "source": [
        "mpl.rcParams['figure.figsize'] = (15, 10)\n",
        "colors = plt.rcParams['axes.prop_cycle'].by_key()['color']"
      ],
      "metadata": {
        "id": "wDxMZlaO7yib"
      },
      "execution_count": null,
      "outputs": []
    },
    {
      "cell_type": "code",
      "source": [
        "def plot_loss(history, label, n):\n",
        "  # Use a log scale on y-axis to show the wide range of values.\n",
        "  plt.semilogy(history.epoch, history.history['loss'],\n",
        "               color=colors[n], label='Train ' + label)\n",
        "  plt.semilogy(history.epoch, history.history['val_loss'],\n",
        "               color=colors[n], label='Val ' + label,\n",
        "               linestyle=\"--\")\n",
        "  plt.xlabel('Epoch')\n",
        "  plt.ylabel('Loss')\n",
        "  "
      ],
      "metadata": {
        "id": "clk_yVk9uuUA"
      },
      "execution_count": null,
      "outputs": []
    },
    {
      "cell_type": "code",
      "source": [
        "def plot_cm(labels, predictions, p=0.5):\n",
        "  cm = confusion_matrix(labels, predictions > p)\n",
        "  plt.figure(figsize=(5,5))\n",
        "  sns.heatmap(cm, annot=True, fmt=\"d\")\n",
        "  plt.title('Confusion matrix @{:.2f}'.format(p))\n",
        "  plt.ylabel('Actual label')\n",
        "  plt.xlabel('Predicted label')\n",
        "\n",
        "  print('Not Contacts Detected (True Negatives): ', cm[0][0])\n",
        "  print('Not Contacts Incorrectly Detected (False Positives): ', cm[0][1])\n",
        "  print('Contacts Missed (False Negatives): ', cm[1][0])\n",
        "  print('Contacts Detected (True Positives): ', cm[1][1])\n",
        "  print('Total Contacts: ', np.sum(cm[1]))"
      ],
      "metadata": {
        "id": "SObGqSb8u5Pv"
      },
      "execution_count": null,
      "outputs": []
    },
    {
      "cell_type": "code",
      "source": [
        "def plot_metrics(history):\n",
        "  metrics = ['loss', 'prc', 'precision', 'recall']\n",
        "  for n, metric in enumerate(metrics):\n",
        "    name = metric.replace(\"_\",\" \").capitalize()\n",
        "    plt.subplot(2,2,n+1)\n",
        "    plt.plot(history.epoch, history.history[metric], color=colors[0], label='Train')\n",
        "    plt.plot(history.epoch, history.history['val_'+metric],\n",
        "             color=colors[0], linestyle=\"--\", label='Val')\n",
        "    plt.xlabel('Epoch')\n",
        "    plt.ylabel(name)\n",
        "    if metric == 'loss':\n",
        "      plt.ylim([0, plt.ylim()[1]])\n",
        "    elif metric == 'auc':\n",
        "      plt.ylim([0.8,1])\n",
        "    else:\n",
        "      plt.ylim([0,1])\n",
        "\n",
        "    plt.legend();"
      ],
      "metadata": {
        "id": "4v_g1_LiuzJp"
      },
      "execution_count": null,
      "outputs": []
    },
    {
      "cell_type": "code",
      "source": [
        "#train with class weights\n",
        "# Scaling by total/2 helps keep the loss to a similar magnitude.\n",
        "# The sum of the weights of all examples stays the same.\n",
        "weight_for_0 = (1 / neg) * (total / 2.0)\n",
        "weight_for_1 = (1 / pos) * (total / 2.0)\n",
        "\n",
        "class_weight = {0: weight_for_0, 1: weight_for_1}\n",
        "\n",
        "print('Weight for class 0: {:.2f}'.format(weight_for_0))\n",
        "print('Weight for class 1: {:.2f}'.format(weight_for_1))"
      ],
      "metadata": {
        "colab": {
          "base_uri": "https://localhost:8080/"
        },
        "id": "SdWwa0_BvCPi",
        "outputId": "b40c433f-2269-49f4-dc02-5ae38be8eb8e"
      },
      "execution_count": null,
      "outputs": [
        {
          "output_type": "stream",
          "name": "stdout",
          "text": [
            "Weight for class 0: 0.50\n",
            "Weight for class 1: 59.00\n"
          ]
        }
      ]
    },
    {
      "cell_type": "code",
      "source": [
        "EPOCHS = 15\n",
        "BATCH_SIZE = 2048 #large batch size to ensure each batch contains a few contacts \n",
        "\n",
        "early_stopping = tf.keras.callbacks.EarlyStopping(\n",
        "    monitor='val_prc', \n",
        "    verbose=1,\n",
        "    patience=10,\n",
        "    mode='max',\n",
        "    restore_best_weights=True)"
      ],
      "metadata": {
        "id": "z85dq1U_umh2"
      },
      "execution_count": null,
      "outputs": []
    },
    {
      "cell_type": "code",
      "source": [
        "weighted_model = make_model()\n",
        "#weighted_model.load_weights(initial_weights)\n",
        "\n",
        "weighted_history = weighted_model.fit(\n",
        "    X_train,\n",
        "    y_train,\n",
        "    batch_size=BATCH_SIZE,\n",
        "    epochs=EPOCHS,\n",
        "    #callbacks=[early_stopping],\n",
        "    #validation_data=(X_val, y_val),\n",
        "    # The class weights go here\n",
        "    class_weight={0: 0.50, 1: 59.21})"
      ],
      "metadata": {
        "colab": {
          "base_uri": "https://localhost:8080/"
        },
        "id": "blZN3T57vC5L",
        "outputId": "de01e901-693b-439b-b0de-00561bcf4e15"
      },
      "execution_count": null,
      "outputs": [
        {
          "output_type": "stream",
          "name": "stdout",
          "text": [
            "Epoch 1/15\n",
            "315/315 [==============================] - 22s 64ms/step - loss: 0.5981 - tp: 4535.0000 - fp: 243211.0000 - tn: 535246.0000 - fn: 2119.0000 - accuracy: 0.6875 - precision: 0.0183 - recall: 0.6815 - auc: 0.7633 - prc: 0.0931\n",
            "Epoch 2/15\n",
            "315/315 [==============================] - 20s 64ms/step - loss: 0.4702 - tp: 3988.0000 - fp: 132554.0000 - tn: 505353.0000 - fn: 1280.0000 - accuracy: 0.7919 - precision: 0.0292 - recall: 0.7570 - auc: 0.8524 - prc: 0.0840\n",
            "Epoch 3/15\n",
            "315/315 [==============================] - 20s 64ms/step - loss: 0.4212 - tp: 4221.0000 - fp: 121647.0000 - tn: 516260.0000 - fn: 1047.0000 - accuracy: 0.8092 - precision: 0.0335 - recall: 0.8013 - auc: 0.8837 - prc: 0.1339\n",
            "Epoch 4/15\n",
            "315/315 [==============================] - 20s 64ms/step - loss: 0.3976 - tp: 4361.0000 - fp: 117739.0000 - tn: 520168.0000 - fn: 907.0000 - accuracy: 0.8155 - precision: 0.0357 - recall: 0.8278 - auc: 0.8969 - prc: 0.1625\n",
            "Epoch 5/15\n",
            "315/315 [==============================] - 20s 64ms/step - loss: 0.3823 - tp: 4376.0000 - fp: 114397.0000 - tn: 523510.0000 - fn: 892.0000 - accuracy: 0.8208 - precision: 0.0368 - recall: 0.8307 - auc: 0.9051 - prc: 0.1952\n",
            "Epoch 6/15\n",
            "315/315 [==============================] - 20s 64ms/step - loss: 0.3734 - tp: 4429.0000 - fp: 113574.0000 - tn: 524333.0000 - fn: 839.0000 - accuracy: 0.8221 - precision: 0.0375 - recall: 0.8407 - auc: 0.9095 - prc: 0.2113\n",
            "Epoch 7/15\n",
            "315/315 [==============================] - 20s 64ms/step - loss: 0.3637 - tp: 4481.0000 - fp: 112271.0000 - tn: 525636.0000 - fn: 787.0000 - accuracy: 0.8242 - precision: 0.0384 - recall: 0.8506 - auc: 0.9145 - prc: 0.2282\n",
            "Epoch 8/15\n",
            "315/315 [==============================] - 20s 64ms/step - loss: 0.3605 - tp: 4511.0000 - fp: 117138.0000 - tn: 520769.0000 - fn: 757.0000 - accuracy: 0.8167 - precision: 0.0371 - recall: 0.8563 - auc: 0.9160 - prc: 0.2390\n",
            "Epoch 9/15\n",
            "315/315 [==============================] - 20s 64ms/step - loss: 0.3527 - tp: 4483.0000 - fp: 109292.0000 - tn: 528615.0000 - fn: 785.0000 - accuracy: 0.8289 - precision: 0.0394 - recall: 0.8510 - auc: 0.9197 - prc: 0.2538\n",
            "Epoch 10/15\n",
            "315/315 [==============================] - 20s 64ms/step - loss: 0.3466 - tp: 4536.0000 - fp: 110269.0000 - tn: 527638.0000 - fn: 732.0000 - accuracy: 0.8274 - precision: 0.0395 - recall: 0.8610 - auc: 0.9225 - prc: 0.2617\n",
            "Epoch 11/15\n",
            "315/315 [==============================] - 20s 65ms/step - loss: 0.3405 - tp: 4518.0000 - fp: 105608.0000 - tn: 532299.0000 - fn: 750.0000 - accuracy: 0.8346 - precision: 0.0410 - recall: 0.8576 - auc: 0.9255 - prc: 0.2708\n",
            "Epoch 12/15\n",
            "315/315 [==============================] - 20s 65ms/step - loss: 0.3390 - tp: 4528.0000 - fp: 108367.0000 - tn: 529540.0000 - fn: 740.0000 - accuracy: 0.8304 - precision: 0.0401 - recall: 0.8595 - auc: 0.9260 - prc: 0.2661\n",
            "Epoch 13/15\n",
            "315/315 [==============================] - 20s 64ms/step - loss: 0.3347 - tp: 4570.0000 - fp: 106550.0000 - tn: 531357.0000 - fn: 698.0000 - accuracy: 0.8333 - precision: 0.0411 - recall: 0.8675 - auc: 0.9280 - prc: 0.2760\n",
            "Epoch 14/15\n",
            "315/315 [==============================] - 20s 64ms/step - loss: 0.3323 - tp: 4567.0000 - fp: 105583.0000 - tn: 532324.0000 - fn: 701.0000 - accuracy: 0.8348 - precision: 0.0415 - recall: 0.8669 - auc: 0.9290 - prc: 0.2786\n",
            "Epoch 15/15\n",
            "315/315 [==============================] - 20s 64ms/step - loss: 0.3306 - tp: 4580.0000 - fp: 105587.0000 - tn: 532320.0000 - fn: 688.0000 - accuracy: 0.8348 - precision: 0.0416 - recall: 0.8694 - auc: 0.9297 - prc: 0.2752\n"
          ]
        }
      ]
    },
    {
      "cell_type": "code",
      "source": [
        "#plot_metrics(weighted_history)\n",
        "#this gives an error because i am not currently using a validation set so it cant track the validation loss"
      ],
      "metadata": {
        "id": "7HKlWBwhvDFZ"
      },
      "execution_count": null,
      "outputs": []
    },
    {
      "cell_type": "code",
      "source": [
        "weighted_model_dca = make_model_dca()\n",
        "#weighted_model.load_weights(initial_weights)\n",
        "\n",
        "weighted_history_dca = weighted_model_dca.fit(\n",
        "    X_train_dca,\n",
        "    y_train_dca,\n",
        "    batch_size=BATCH_SIZE,\n",
        "    epochs=EPOCHS,\n",
        "    #callbacks=[early_stopping],\n",
        "    #validation_data=(X_val, y_val),\n",
        "    # The class weights go here\n",
        "    class_weight={0: 0.50, 1: 59.21})"
      ],
      "metadata": {
        "colab": {
          "base_uri": "https://localhost:8080/"
        },
        "id": "wFpy26-kYXAg",
        "outputId": "279dab3a-c4c1-4d2d-9dcc-dd7f11744fb0"
      },
      "execution_count": null,
      "outputs": [
        {
          "output_type": "stream",
          "name": "stdout",
          "text": [
            "Epoch 1/15\n",
            "315/315 [==============================] - 23s 66ms/step - loss: 0.4434 - tp: 5469.0000 - fp: 166830.0000 - tn: 611627.0000 - fn: 1185.0000 - accuracy: 0.7860 - precision: 0.0317 - recall: 0.8219 - auc: 0.8824 - prc: 0.1237\n",
            "Epoch 2/15\n",
            "315/315 [==============================] - 21s 66ms/step - loss: 0.3521 - tp: 4522.0000 - fp: 95921.0000 - tn: 541986.0000 - fn: 746.0000 - accuracy: 0.8497 - precision: 0.0450 - recall: 0.8584 - auc: 0.9205 - prc: 0.1806\n",
            "Epoch 3/15\n",
            "315/315 [==============================] - 21s 66ms/step - loss: 0.3295 - tp: 4570.0000 - fp: 94345.0000 - tn: 543562.0000 - fn: 698.0000 - accuracy: 0.8522 - precision: 0.0462 - recall: 0.8675 - auc: 0.9304 - prc: 0.2272\n",
            "Epoch 4/15\n",
            "315/315 [==============================] - 21s 66ms/step - loss: 0.3146 - tp: 4617.0000 - fp: 90425.0000 - tn: 547482.0000 - fn: 651.0000 - accuracy: 0.8584 - precision: 0.0486 - recall: 0.8764 - auc: 0.9368 - prc: 0.2574\n",
            "Epoch 5/15\n",
            "315/315 [==============================] - 21s 66ms/step - loss: 0.3085 - tp: 4637.0000 - fp: 91355.0000 - tn: 546552.0000 - fn: 631.0000 - accuracy: 0.8570 - precision: 0.0483 - recall: 0.8802 - auc: 0.9393 - prc: 0.2714\n",
            "Epoch 6/15\n",
            "315/315 [==============================] - 21s 66ms/step - loss: 0.3007 - tp: 4676.0000 - fp: 90000.0000 - tn: 547907.0000 - fn: 592.0000 - accuracy: 0.8591 - precision: 0.0494 - recall: 0.8876 - auc: 0.9423 - prc: 0.2892\n",
            "Epoch 7/15\n",
            "315/315 [==============================] - 21s 66ms/step - loss: 0.2961 - tp: 4656.0000 - fp: 89868.0000 - tn: 548039.0000 - fn: 612.0000 - accuracy: 0.8593 - precision: 0.0493 - recall: 0.8838 - auc: 0.9441 - prc: 0.3058\n",
            "Epoch 8/15\n",
            "315/315 [==============================] - 21s 66ms/step - loss: 0.2863 - tp: 4683.0000 - fp: 88664.0000 - tn: 549243.0000 - fn: 585.0000 - accuracy: 0.8612 - precision: 0.0502 - recall: 0.8890 - auc: 0.9475 - prc: 0.3261\n",
            "Epoch 9/15\n",
            "315/315 [==============================] - 21s 66ms/step - loss: 0.2844 - tp: 4711.0000 - fp: 88313.0000 - tn: 549594.0000 - fn: 557.0000 - accuracy: 0.8618 - precision: 0.0506 - recall: 0.8943 - auc: 0.9482 - prc: 0.3388\n",
            "Epoch 10/15\n",
            "315/315 [==============================] - 21s 66ms/step - loss: 0.2779 - tp: 4704.0000 - fp: 88002.0000 - tn: 549905.0000 - fn: 564.0000 - accuracy: 0.8623 - precision: 0.0507 - recall: 0.8929 - auc: 0.9505 - prc: 0.3427\n",
            "Epoch 11/15\n",
            "315/315 [==============================] - 21s 66ms/step - loss: 0.2763 - tp: 4710.0000 - fp: 85771.0000 - tn: 552136.0000 - fn: 558.0000 - accuracy: 0.8658 - precision: 0.0521 - recall: 0.8941 - auc: 0.9509 - prc: 0.3523\n",
            "Epoch 12/15\n",
            "315/315 [==============================] - 21s 66ms/step - loss: 0.2708 - tp: 4733.0000 - fp: 86041.0000 - tn: 551866.0000 - fn: 535.0000 - accuracy: 0.8654 - precision: 0.0521 - recall: 0.8984 - auc: 0.9528 - prc: 0.3675\n",
            "Epoch 13/15\n",
            "315/315 [==============================] - 21s 66ms/step - loss: 0.2698 - tp: 4740.0000 - fp: 87745.0000 - tn: 550162.0000 - fn: 528.0000 - accuracy: 0.8628 - precision: 0.0513 - recall: 0.8998 - auc: 0.9530 - prc: 0.3547\n",
            "Epoch 14/15\n",
            "315/315 [==============================] - 21s 66ms/step - loss: 0.2672 - tp: 4755.0000 - fp: 87212.0000 - tn: 550695.0000 - fn: 513.0000 - accuracy: 0.8636 - precision: 0.0517 - recall: 0.9026 - auc: 0.9539 - prc: 0.3643\n",
            "Epoch 15/15\n",
            "315/315 [==============================] - 21s 65ms/step - loss: 0.2633 - tp: 4769.0000 - fp: 86785.0000 - tn: 551122.0000 - fn: 499.0000 - accuracy: 0.8643 - precision: 0.0521 - recall: 0.9053 - auc: 0.9553 - prc: 0.3714\n"
          ]
        }
      ]
    },
    {
      "cell_type": "code",
      "source": [
        "weighted_model.save('./drive/MyDrive/weighted_model')"
      ],
      "metadata": {
        "colab": {
          "base_uri": "https://localhost:8080/"
        },
        "id": "MSECiA1DaNbp",
        "outputId": "98bb671a-0378-4808-f5dc-5184a5987c16"
      },
      "execution_count": null,
      "outputs": [
        {
          "output_type": "stream",
          "name": "stdout",
          "text": [
            "INFO:tensorflow:Assets written to: ./drive/MyDrive/weighted_model/assets\n"
          ]
        }
      ]
    },
    {
      "cell_type": "code",
      "source": [
        "weighted_model_dca.save('./drive/MyDrive/weighted_model_dca')"
      ],
      "metadata": {
        "colab": {
          "base_uri": "https://localhost:8080/"
        },
        "id": "uSyDlhuKZ6sj",
        "outputId": "9651d32f-9d9d-4a5c-d432-dea20e7fdb4e"
      },
      "execution_count": null,
      "outputs": [
        {
          "output_type": "stream",
          "name": "stdout",
          "text": [
            "INFO:tensorflow:Assets written to: ./drive/MyDrive/weighted_model_dca/assets\n"
          ]
        }
      ]
    },
    {
      "cell_type": "code",
      "source": [
        " weighted_model = tf.keras.models.load_model('./drive/MyDrive/weighted_model')\n",
        " weighted_model_dca = tf.keras.models.load_model('./drive/MyDrive/weighted_model_dca')\n"
      ],
      "metadata": {
        "id": "dlhGgh3lCAwp"
      },
      "execution_count": null,
      "outputs": []
    },
    {
      "cell_type": "code",
      "source": [
        "train_predictions_weighted = weighted_model.predict(X_train, batch_size=BATCH_SIZE)\n",
        "test_predictions_weighted = weighted_model.predict(X_test, batch_size=BATCH_SIZE)"
      ],
      "metadata": {
        "id": "OE8DqW4SQqm_"
      },
      "execution_count": null,
      "outputs": []
    },
    {
      "cell_type": "code",
      "source": [
        "train_predictions_weighted = weighted_model.predict(X_train, batch_size=BATCH_SIZE)\n",
        "test_predictions_weighted = weighted_model.predict(X_test, batch_size=BATCH_SIZE)\n",
        "train_predictions_weighted_dca = weighted_model_dca.predict(X_train_dca, batch_size=BATCH_SIZE)\n",
        "test_predictions_weighted_dca = weighted_model_dca.predict(X_test_dca, batch_size=BATCH_SIZE)"
      ],
      "metadata": {
        "id": "AVA8Dzdi9w-j"
      },
      "execution_count": null,
      "outputs": []
    },
    {
      "cell_type": "code",
      "source": [
        "df_model_train = pd.DataFrame(train_predictions_weighted, columns = ['DNF'] )"
      ],
      "metadata": {
        "id": "yFSiZtt-SxAw"
      },
      "execution_count": null,
      "outputs": []
    },
    {
      "cell_type": "code",
      "source": [
        "df_model_train['DNF+DCA'] = train_predictions_weighted_dca\n",
        "df_model_train['Labels'] = y_train"
      ],
      "metadata": {
        "id": "-S6ZOSiGUE61"
      },
      "execution_count": null,
      "outputs": []
    },
    {
      "cell_type": "code",
      "source": [
        "df_model_test = pd.DataFrame(test_predictions_weighted, columns = ['DNF'] )\n",
        "df_model_test['DNF+DCA'] = test_predictions_weighted_dca\n",
        "df_model_test['Labels'] = y_test"
      ],
      "metadata": {
        "id": "uCGX3TjkUT2b"
      },
      "execution_count": null,
      "outputs": []
    },
    {
      "cell_type": "code",
      "source": [
        "df_model_test.to_csv('./drive/MyDrive/test.csv')\n",
        "df_model_train.to_csv('./drive/MyDrive/train.csv')"
      ],
      "metadata": {
        "id": "UmYwe38hUtda"
      },
      "execution_count": null,
      "outputs": []
    },
    {
      "cell_type": "code",
      "source": [
        "weighted_results = weighted_model.evaluate(X_test, y_test,\n",
        "                                           batch_size=BATCH_SIZE, verbose=0)\n",
        "for name, value in zip(weighted_model.metrics_names, weighted_results):\n",
        "  print(name, ': ', value)\n",
        "print()\n",
        "\n",
        "plot_cm(y_test, test_predictions_weighted)"
      ],
      "metadata": {
        "colab": {
          "base_uri": "https://localhost:8080/",
          "height": 636
        },
        "id": "2Y6yGvsoOgQT",
        "outputId": "f42071f5-6212-4fd8-e787-370bf9cc040a"
      },
      "execution_count": null,
      "outputs": [
        {
          "output_type": "stream",
          "name": "stdout",
          "text": [
            "loss :  0.5532085299491882\n",
            "tp :  1223.0\n",
            "fp :  47759.0\n",
            "tn :  92791.0\n",
            "fn :  163.0\n",
            "accuracy :  0.6623689532279968\n",
            "precision :  0.024968355894088745\n",
            "recall :  0.8823953866958618\n",
            "auc :  0.8861595988273621\n",
            "prc :  0.3802436590194702\n",
            "\n",
            "Not Contacts Detected (True Negatives):  92791\n",
            "Not Contacts Incorrectly Detected (False Positives):  47759\n",
            "Contacts Missed (False Negatives):  163\n",
            "Contacts Detected (True Positives):  1223\n",
            "Total Contacts:  1386\n"
          ]
        },
        {
          "output_type": "display_data",
          "data": {
            "text/plain": [
              "<Figure size 360x360 with 2 Axes>"
            ],
            "image/png": "[encoded data removed]"
          },
          "metadata": {
            "needs_background": "light"
          }
        }
      ]
    },
    {
      "cell_type": "code",
      "source": [
        "weighted_results_dca = weighted_model_dca.evaluate(X_test_dca, y_test_dca,\n",
        "                                           batch_size=BATCH_SIZE, verbose=0)\n",
        "for name, value in zip(weighted_model_dca.metrics_names, weighted_results_dca):\n",
        "  print(name, ': ', value)\n",
        "print()\n",
        "\n",
        "plot_cm(y_test_dca, test_predictions_weighted_dca)"
      ],
      "metadata": {
        "colab": {
          "base_uri": "https://localhost:8080/",
          "height": 636
        },
        "id": "pvQzikgqaXuG",
        "outputId": "b23d687a-ee8d-4be3-998c-2b94062fbe39"
      },
      "execution_count": null,
      "outputs": [
        {
          "output_type": "stream",
          "name": "stdout",
          "text": [
            "loss :  0.4346421957015991\n",
            "tp :  1221.0\n",
            "fp :  33979.0\n",
            "tn :  106571.0\n",
            "fn :  165.0\n",
            "accuracy :  0.7594408988952637\n",
            "precision :  0.034687500447034836\n",
            "recall :  0.8809523582458496\n",
            "auc :  0.9122452139854431\n",
            "prc :  0.3920454680919647\n",
            "\n",
            "Not Contacts Detected (True Negatives):  106571\n",
            "Not Contacts Incorrectly Detected (False Positives):  33979\n",
            "Contacts Missed (False Negatives):  165\n",
            "Contacts Detected (True Positives):  1221\n",
            "Total Contacts:  1386\n"
          ]
        },
        {
          "output_type": "display_data",
          "data": {
            "text/plain": [
              "<Figure size 360x360 with 2 Axes>"
            ],
            "image/png": "[encoded data removed]"
          },
          "metadata": {
            "needs_background": "light"
          }
        }
      ]
    },
    {
      "cell_type": "code",
      "source": [
        "from sklearn import metrics"
      ],
      "metadata": {
        "id": "749kCFEZYWrc"
      },
      "execution_count": null,
      "outputs": []
    },
    {
      "cell_type": "code",
      "source": [
        "auc = metrics.roc_auc_score(df_test_dca.bond_type, df_test_dca.dca_val)\n",
        "auc"
      ],
      "metadata": {
        "colab": {
          "base_uri": "https://localhost:8080/"
        },
        "id": "uvOj5vZvXtJJ",
        "outputId": "75c84f78-b043-4495-eb06-eb5737592c22"
      },
      "execution_count": null,
      "outputs": [
        {
          "output_type": "execute_result",
          "data": {
            "text/plain": [
              "0.811984876006264"
            ]
          },
          "metadata": {},
          "execution_count": 180
        }
      ]
    },
    {
      "cell_type": "code",
      "source": [
        "def plot_roc(name, labels, predictions, **kwargs):\n",
        "  fp, tp, _ = sklearn.metrics.roc_curve(labels, predictions)\n",
        "\n",
        "  plt.plot(100*fp, 100*tp, label=name, linewidth=2, **kwargs)\n",
        "  plt.xlabel('1-Specifity (Proportion of False Positives)',fontsize = 'large')\n",
        "  plt.ylabel('Sensitivity (Proportion of True Positives)',fontsize = 'large')\n",
        "  plt.xlim([-5,100])\n",
        "  plt.ylim([0,100])\n",
        "  plt.grid(True,alpha = 0.25)\n",
        "  ax = plt.gca()\n",
        "  ax.set_aspect('equal')"
      ],
      "metadata": {
        "id": "znUeSs8eu8lC"
      },
      "execution_count": null,
      "outputs": []
    },
    {
      "cell_type": "code",
      "source": [
        "plot_roc(\"Train Network DNF's\", y_train, train_predictions_weighted, color=colors[3])\n",
        "plot_roc(\"Test Network DNF's\", y_test, test_predictions_weighted, color=colors[3], linestyle='--')\n",
        "\n",
        "plot_roc(\"Train Network DNF's and DCA Values\", y_train_dca, train_predictions_weighted_dca, color=colors[2])\n",
        "plot_roc(\"Test Network DNF's and DCA Values\", y_test_dca, test_predictions_weighted_dca, color=colors[2], linestyle='--')\n",
        "\n",
        "plot_roc('DCA Values of Test Set', df_test_dca.bond_type, df_test_dca.dca_val, color=colors[0],linestyle='--')\n",
        "#plot_roc('DCA Train', df_train_dca.bond_type, df_train_dca.dca_val, color=colors[0] )\n",
        "\n",
        "plt.legend(loc='lower right', fontsize = 14);\n",
        "plt.title('ROC Curve For Two Network Configurations and DCA on Training and Test Sets', fontsize = 'x-large')\n",
        "plt.savefig('./drive/MyDrive/roc.jpg',bbox_inches='tight', dpi=150)"
      ],
      "metadata": {
        "colab": {
          "base_uri": "https://localhost:8080/",
          "height": 626
        },
        "id": "LpOqK1tZOsj0",
        "outputId": "e9236847-26be-4ef6-ac59-370cc6f203be"
      },
      "execution_count": null,
      "outputs": [
        {
          "output_type": "display_data",
          "data": {
            "text/plain": [
              "<Figure size 1080x720 with 1 Axes>"
            ],
            "image/png": "[encoded data removed]"
          },
          "metadata": {
            "needs_background": "light"
          }
        }
      ]
    },
    {
      "cell_type": "code",
      "source": [
        "#plot_roc(\"Train Weighted\", y_train, train_predictions_weighted, color=colors[3])\n",
        "plot_roc(\"Test Network DNF's  -  AUC = 0.886\", y_test, test_predictions_weighted, color=colors[3], linestyle='--')\n",
        "\n",
        "#plot_roc(\"Train Weighted dca\", y_train_dca, train_predictions_weighted_dca, color=colors[2])\n",
        "plot_roc(\"Test Network DNF's and DCA Values  -  AUC = 0.912\", y_test_dca, test_predictions_weighted_dca, color=colors[2], linestyle='--')\n",
        "\n",
        "plot_roc('DCA Values for Test Set  -  AUC = 0.812', df_test_dca.bond_type, df_test_dca.dca_val, color=colors[0], linestyle='--')\n",
        "#plot_roc('pyDCA Train', df_train_dca.bond_type, df_train_dca.dca_val, color=colors[0])\n",
        "\n",
        "plt.legend(loc='lower right', fontsize = 14);\n",
        "plt.title('ROC Curve for Two Network Configurations and DCA on Test Set' , fontsize = '16')\n",
        "plt.savefig('./drive/MyDrive/roc_test.jpg',bbox_inches='tight', dpi=150)"
      ],
      "metadata": {
        "colab": {
          "base_uri": "https://localhost:8080/",
          "height": 627
        },
        "id": "2jkBK9bKOwtZ",
        "outputId": "615a14ea-b3ea-47a8-a244-df22333240f6"
      },
      "execution_count": null,
      "outputs": [
        {
          "output_type": "display_data",
          "data": {
            "text/plain": [
              "<Figure size 1080x720 with 1 Axes>"
            ],
            "image/png": "[encoded data removed]"
          },
          "metadata": {
            "needs_background": "light"
          }
        }
      ]
    },
    {
      "cell_type": "code",
      "source": [
        "def plot_prc(name, labels, predictions, **kwargs):\n",
        "    precision, recall, _ = sklearn.metrics.precision_recall_curve(labels, predictions)\n",
        "\n",
        "    plt.plot( recall, precision, label=name, linewidth=2, **kwargs)\n",
        "    plt.ylabel('Precision  (TP / (TP + FP))', fontsize = 'large')\n",
        "    plt.xlabel('Recall  (TP / (TP + FN))',fontsize = 'large')\n",
        "    plt.grid(True, alpha = 0.25)\n",
        "    ax = plt.gca()\n",
        "    ax.set_aspect('equal')\n",
        "    "
      ],
      "metadata": {
        "id": "uuYOlsAj5c6o"
      },
      "execution_count": null,
      "outputs": []
    },
    {
      "cell_type": "code",
      "source": [
        "\n",
        "plot_prc(\"Train Network DNF's\", y_train, train_predictions_weighted, color=colors[3])\n",
        "plot_prc(\"Test Network DNF's\", y_test, test_predictions_weighted, color=colors[3], linestyle='--')\n",
        "\n",
        "\n",
        "plot_prc(\"Train Network DNF's + DCA\", y_train_dca, train_predictions_weighted_dca, color=colors[2])\n",
        "plot_prc(\"Test Network DNF's + DCA\", y_test_dca, test_predictions_weighted_dca, color=colors[2], linestyle='--')\n",
        "\n",
        "\n",
        "#plot_prc('pyDCA Train', df_train_dca.bond_type, df_train_dca.dca_val, color=colors[0])\n",
        "plot_prc('DCA Values for Test Set', df_test_dca.bond_type, df_test_dca.dca_val, color=colors[0], linestyle='--')\n",
        "\n",
        "plt.legend(loc='upper right', fontsize = 14);\n",
        "plt.title('Precision - Recall Curve for Two Network Configurations and DCA on Train and Test Sets' , fontsize = 'x-large')\n",
        "plt.savefig('./drive/MyDrive/prc.jpg',bbox_inches='tight', dpi=150)"
      ],
      "metadata": {
        "id": "8xADsu2wvU_G",
        "colab": {
          "base_uri": "https://localhost:8080/",
          "height": 626
        },
        "outputId": "7fa92790-2a1b-4833-a271-4db0c682b44d"
      },
      "execution_count": null,
      "outputs": [
        {
          "output_type": "display_data",
          "data": {
            "text/plain": [
              "<Figure size 1080x720 with 1 Axes>"
            ],
            "image/png": "[encoded data removed]"
          },
          "metadata": {
            "needs_background": "light"
          }
        }
      ]
    },
    {
      "cell_type": "code",
      "source": [
        "from sklearn.metrics import average_precision_score, precision_recall_curve\n",
        "from sklearn.metrics import auc, plot_precision_recall_curve"
      ],
      "metadata": {
        "id": "iozXyqYIlZmO"
      },
      "execution_count": null,
      "outputs": []
    },
    {
      "cell_type": "code",
      "source": [
        "precision, recall, thresholds = precision_recall_curve(y_test, test_predictions_weighted)\n",
        "precision_wdca, recall_wdca, thresholds_wdca = precision_recall_curve(y_test_dca, test_predictions_weighted_dca)\n",
        "precision_dca, recall_dca, thresholds_dca = precision_recall_curve(df_test_dca.bond_type, df_test_dca.dca_val,)\n",
        "auc_precision_recall = auc(recall, precision)\n",
        "auc_precision_recall_wdca = auc(recall_wdca, precision_wdca)\n",
        "auc_precision_recall_dca = auc(recall_dca, precision_dca)"
      ],
      "metadata": {
        "id": "nt4S3lGDle7r"
      },
      "execution_count": null,
      "outputs": []
    },
    {
      "cell_type": "code",
      "source": [
        "print(auc_precision_recall)\n",
        "print(auc_precision_recall_wdca)\n",
        "print(auc_precision_recall_dca)"
      ],
      "metadata": {
        "colab": {
          "base_uri": "https://localhost:8080/"
        },
        "id": "gaY7GyZ0l1id",
        "outputId": "4fdd15e9-5035-4ae7-b988-adc60dac52b2"
      },
      "execution_count": null,
      "outputs": [
        {
          "output_type": "stream",
          "name": "stdout",
          "text": [
            "0.3683065602547156\n",
            "0.3925140502621748\n",
            "0.2825718862872568\n"
          ]
        }
      ]
    },
    {
      "cell_type": "code",
      "source": [
        ""
      ],
      "metadata": {
        "id": "4ReBA2E6m2kt"
      },
      "execution_count": null,
      "outputs": []
    },
    {
      "cell_type": "code",
      "source": [
        "plot_prc(\"Test Network DNF's  -  AUC = 0.373\", y_test, test_predictions_weighted, color=colors[3], linestyle='--')\n",
        "\n",
        "plot_prc(\"Test Network DNF's + DCA  -  AUC = 0.386\", y_test_dca, test_predictions_weighted_dca, color=colors[2], linestyle='--')\n",
        "\n",
        "plot_prc('DCA Values for Test Set  -  AUC = 0.283', df_test_dca.bond_type, df_test_dca.dca_val, color=colors[0], linestyle='--')\n",
        "\n",
        "plt.legend(loc='upper right', fontsize = 14);\n",
        "plt.title('Precision - Recall Curve for Two Network Configurations and DCA on Test Set' , fontsize = 'x-large')\n",
        "plt.savefig('./drive/MyDrive/prc_test.jpg',bbox_inches='tight', dpi=150)"
      ],
      "metadata": {
        "colab": {
          "base_uri": "https://localhost:8080/",
          "height": 626
        },
        "id": "Ri3vwZIhczM1",
        "outputId": "63fa83da-a73c-49ff-ea79-271e52e9a558"
      },
      "execution_count": null,
      "outputs": [
        {
          "output_type": "display_data",
          "data": {
            "text/plain": [
              "<Figure size 1080x720 with 1 Axes>"
            ],
            "image/png": "[encoded data removed]"
          },
          "metadata": {
            "needs_background": "light"
          }
        }
      ]
    },
    {
      "cell_type": "code",
      "source": [
        "#test = ['1C2X', '1L9A',  '2MF0',  '2KE6', '4C4Q', '2NBX', '1S9S', '1Z2J', '6UES', '6QN3', '6HAG', '5DDP', '3NDB']\n",
        "test = ['1C2X', '1L9A',  '2MF0', '2NBX', '1S9S', '1Z2J' ,'6UES', '6QN3', '6HAG', '5DDP', '3NDB','4RZD','4PQV','4C4Q','2KE6']"
      ],
      "metadata": {
        "id": "XkAYIf7bcb2D"
      },
      "execution_count": null,
      "outputs": []
    },
    {
      "cell_type": "code",
      "source": [
        "len_dict = {'1C2X': 120,\n",
        " '1L9A': 128,\n",
        " '2MF0': 70,\n",
        " '2KE6': 48,\n",
        " '4C4Q': 233,\n",
        " '2NBX': 108,\n",
        " '1S9S': 101,\n",
        " '1Z2J': 45,\n",
        " '2KRL': 102,\n",
        " '6UES': 119,\n",
        " '2N1Q': 155,\n",
        " '6QN3': 50,\n",
        " '6HAG': 43,\n",
        " '5DDP': 97,\n",
        " '3NDB': 454,\n",
        " '4RZD' : 101,\n",
        " '4PQV' : 68 }"
      ],
      "metadata": {
        "id": "gYdsj-jVsTwQ"
      },
      "execution_count": null,
      "outputs": []
    },
    {
      "cell_type": "code",
      "source": [
        "def make_array_dca(df_slice):\n",
        "    ef = df_slice\n",
        "    bondtype = ef.pop('bond_type')\n",
        "    ef.insert(loc = 27, column = 'bond_type', value = bondtype) #puts the label at the end of the array, need to adjust if addingMI or DCA to 27\n",
        "    ef.set_index('positions', inplace = True)\n",
        "    l = int(math.sqrt(len(ef)))\n",
        "    arr = np.ones([l, l, 27]) #change to 27 if including mi val or dca val\n",
        "    for i in range(l):\n",
        "        for j in range(l): \n",
        "            \n",
        "            arr[i,j,:] = ef.loc[str(i+1)+':'+str(j+1)][0:27] #change to 27 if including MI or DCA val \n",
        "    return arr\n",
        "\n",
        "\n",
        "\n",
        "def make_frames_dca(df):\n",
        "    frames = []\n",
        "    labels = []\n",
        "    for file in set(df['file']):\n",
        "        print(file)\n",
        "        arr = make_array_dca(df[df['file'] == file])\n",
        "        for x in range(len(arr)-11): #0-29\n",
        "            for y in range(len(arr)-11):\n",
        "                array_11x11x25 = arr[x:x+11,y:y+11,:-1] #drop the label, first array is arr[0:11], slice is not inclusive of 11\n",
        "                label = arr[x+5, y+5, -1] #make the label, in this case 0+5 = 5 which is index 6 \n",
        "                frames.append(array_11x11x25) \n",
        "                labels.append([label, str(file),len_dict[str(file)]])\n",
        "    return frames, labels"
      ],
      "metadata": {
        "id": "P-5-Db6-bg48"
      },
      "execution_count": null,
      "outputs": []
    },
    {
      "cell_type": "code",
      "source": [
        "\n",
        "frames_dca, labels_dca = make_frames_dca(df_test_dca)"
      ],
      "metadata": {
        "colab": {
          "base_uri": "https://localhost:8080/"
        },
        "id": "dARUJj2AktXi",
        "outputId": "bbe8499d-1d4b-4044-8573-845d68edb69e"
      },
      "execution_count": null,
      "outputs": [
        {
          "output_type": "stream",
          "name": "stdout",
          "text": [
            "2KE6\n",
            "2NBX\n",
            "6UES\n",
            "6QN3\n",
            "1C2X\n",
            "2MF0\n",
            "4RZD\n",
            "6HAG\n",
            "1Z2J\n",
            "4C4Q\n",
            "4PQV\n",
            "3NDB\n",
            "1L9A\n",
            "1S9S\n",
            "5DDP\n"
          ]
        }
      ]
    },
    {
      "cell_type": "code",
      "source": [
        "df_22 = pd.DataFrame(labels_dca, columns = ['label', 'file', 'seq_length'])\n",
        "df_22"
      ],
      "metadata": {
        "id": "cdDdW5vcmQuw"
      },
      "execution_count": null,
      "outputs": []
    },
    {
      "cell_type": "code",
      "source": [
        "df_22['predict_dca'] = test_predictions_weighted_dca\n",
        "df_22['predict'] = test_predictions_weighted\n",
        "df_22"
      ],
      "metadata": {
        "id": "CKzFeouKmmsP"
      },
      "execution_count": null,
      "outputs": []
    },
    {
      "cell_type": "code",
      "source": [
        "l_wdca = {}\n",
        "\n"
      ],
      "metadata": {
        "id": "DjY7O8SNfkgK"
      },
      "execution_count": null,
      "outputs": []
    },
    {
      "cell_type": "code",
      "source": [
        "l_nodca = {}"
      ],
      "metadata": {
        "id": "9QuSF_YFiJI2"
      },
      "execution_count": null,
      "outputs": []
    },
    {
      "cell_type": "code",
      "source": [
        "dca = {}"
      ],
      "metadata": {
        "id": "Y1igFUeRijBE"
      },
      "execution_count": null,
      "outputs": []
    },
    {
      "cell_type": "code",
      "source": [
        ""
      ],
      "metadata": {
        "id": "_PCAA7UUdDAw"
      },
      "execution_count": null,
      "outputs": []
    },
    {
      "cell_type": "code",
      "source": [
        "\n",
        "\n",
        "div = 1\n",
        "l = []\n",
        "l2 = []\n",
        "l_dca = []\n",
        "for file in test:\n",
        "  print(file)\n",
        "  \n",
        "  lf = df_22[df_22['file']==str(file)]\n",
        "  #lf = df_test_dca[df_test_dca['file']==str(file)]\n",
        "  \n",
        "  length = df_22[df_22['file']==str(file)].seq_length.iloc[0]\n",
        "  \n",
        "  \n",
        "  \n",
        "  #l.append(sum(lf.nlargest(n = int(length//div), columns = ['predict']).label)/(length//div))\n",
        "  l2.append(sum(lf.nlargest(n = int(length//div), columns = ['predict_dca']).label)/(length//div))\n",
        "  #l_dca.append(sum(lf.nlargest(n = int(length//div), columns = ['dca_val']).bond_type)/(length//div))\n",
        "#l_nodca['L//'+str(div)] = l\n",
        "l_wdca['L//'+str(div)] = l2\n",
        "#dca['L//'+str(div)] = l_dca"
      ],
      "metadata": {
        "id": "cmjJA4TvnS-v"
      },
      "execution_count": null,
      "outputs": []
    },
    {
      "cell_type": "code",
      "source": [
        "l_wdca"
      ],
      "metadata": {
        "id": "lzGMd0rZiAkE"
      },
      "execution_count": null,
      "outputs": []
    },
    {
      "cell_type": "code",
      "source": [
        "np.average([0.4,\n",
        "  0.34375,\n",
        "  0.3,\n",
        "  0.3425925925925926,\n",
        "  0.49504950495049505,\n",
        "  0.4888888888888889,\n",
        "  0.6386554621848739,\n",
        "  0.4,\n",
        "  0.27906976744186046,\n",
        "  0.3402061855670103,\n",
        "  0.27973568281938327])\n",
        "\n",
        "\n"
      ],
      "metadata": {
        "id": "A3jcsFftfeJ8"
      },
      "execution_count": null,
      "outputs": []
    },
    {
      "cell_type": "code",
      "source": [
        "np.average([0.3465346534653465,\n",
        "  0.36764705882352944,\n",
        "  0.21888412017167383,\n",
        "  0.020833333333333332])"
      ],
      "metadata": {
        "id": "rkdsvWOdfzlF"
      },
      "execution_count": null,
      "outputs": []
    },
    {
      "cell_type": "code",
      "source": [
        "dca_only = [0.716, 0.670,0.495,0.314]\n",
        "dca_only_high = [0.855,0.831,0.597,0.373]\n",
        "dca_only_low = [0.338,0.226,0.216,0.154]"
      ],
      "metadata": {
        "id": "CdzQkfXJfJfx"
      },
      "execution_count": null,
      "outputs": []
    },
    {
      "cell_type": "code",
      "source": [
        "no_dca = [0.819,0.787,0.517,0.323]\n",
        "no_dca_high = [0.845,0.811,0.540,0.331]\n",
        "no_dca_low = [0.749,0.718,0.454,0.301]"
      ],
      "metadata": {
        "id": "6onYxiAci0Z4"
      },
      "execution_count": null,
      "outputs": []
    },
    {
      "cell_type": "code",
      "source": [
        "with_dca = [0.830,0.790,0.558,0.351]\n",
        "with_dca_high = [0.896,0.876,0.638,0.392]\n",
        "with_dca_low = [0.649,0.555,0.341,0.239]"
      ],
      "metadata": {
        "id": "Kp2SVeswf9E_"
      },
      "execution_count": null,
      "outputs": []
    },
    {
      "cell_type": "code",
      "source": [
        "# with_dca = [0.778,0.756,0.530,0.349]\n",
        "# no_dca = [0.786,0.732,0.502,0.318]\n",
        "# only_dca = [0.729, 0.707,0.516,0.326 ]"
      ],
      "metadata": {
        "id": "wFpqg1NDF84d"
      },
      "execution_count": null,
      "outputs": []
    },
    {
      "cell_type": "code",
      "source": [
        "L =  ['L//10','L//5','L//2','L'] \n",
        "\n",
        "plt.plot(L, with_dca,'ko-', color = 'green',linewidth=2, markersize=6)\n",
        "plt.plot(L, no_dca, 'ko-', color = 'red',linewidth=2, markersize=6)\n",
        "plt.plot(L, dca_only, 'ko-', color = 'blue',linewidth=2, markersize=6)\n",
        "plt.legend(['Network w/ Dinucleotide Frequencies and DCA Values','Network w/ Dinucleotide Frequencies', 'DCA Values Only'], fontsize = 13)\n",
        "plt.xlabel('Number of Predictions', fontsize = 'x-large')\n",
        "plt.ylabel('Avg. PPV', fontsize = 'x-large')\n",
        "plt.title('Avg. PPV vs. The Top Valued Predictions as a Proportion of the Length of RNA Sequence for the Test Set', fontsize = 'x-large')\n",
        "\n",
        "plt.grid(True, alpha = 0.3)\n",
        "plt.savefig('./drive/MyDrive/PPV.jpg',bbox_inches='tight', dpi=150)\n",
        "plt.show()"
      ],
      "metadata": {
        "colab": {
          "base_uri": "https://localhost:8080/",
          "height": 627
        },
        "id": "j_xGRWF5keRj",
        "outputId": "6630be3f-20d3-412c-8ee8-16a2d2f80578"
      },
      "execution_count": null,
      "outputs": [
        {
          "output_type": "display_data",
          "data": {
            "text/plain": [
              "<Figure size 1080x720 with 1 Axes>"
            ],
            "image/png": "[encoded data removed]"
          },
          "metadata": {
            "needs_background": "light"
          }
        }
      ]
    },
    {
      "cell_type": "code",
      "source": [
        "L =  ['L//10','L//5','L//2','L'] \n",
        "\n",
        "plt.plot(L, with_dca_high,'ko-', color = 'green',linewidth=2, markersize=6,linestyle='dashdot')\n",
        "plt.plot(L, no_dca_high, 'ko-', color = 'red',linewidth=2, markersize=6,linestyle='dashdot')\n",
        "plt.plot(L, dca_only_high, 'ko-', color = 'blue',linewidth=2, markersize=6,linestyle='dashdot')\n",
        "plt.plot(L, with_dca_low,'kv-', color = 'green',linewidth=2, markersize=6,linestyle='dotted')\n",
        "plt.plot(L, no_dca_low, 'kv-', color = 'red',linewidth=2, markersize=6,linestyle='dotted')\n",
        "plt.plot(L, dca_only_low, 'kv-', color = 'blue',linewidth=2, markersize=6,linestyle='dotted')\n",
        "plt.legend(['Network w/ Dinuc. Freq. + DCA Values - High M','Network w/ Dinuc. Freq. - High M', 'DCA Values Only - High M','Network w/ Dinuc. Freq. + DCA Values - Low M','Network w/ Dinuc. Freq. - Low M', 'DCA Values Only - Low M', ], fontsize = 13)\n",
        "plt.xlabel('Number of Predictions',fontsize = 'x-large')\n",
        "plt.ylabel('Avg. PPV',fontsize = 'x-large')\n",
        "plt.title('Avg. PPV vs. The Top Valued Predictions as a Proportion of the Length of RNA Sequence for the Test Set', fontsize = 'x-large')\n",
        "#plt.figure(figsize =(6,12))\n",
        "#plt.savefig('./ppv')\n",
        "plt.grid(True, alpha = 0.3)\n",
        "plt.savefig('./drive/MyDrive/ppv_split.jpg',bbox_inches='tight', dpi=150)\n",
        "plt.show()"
      ],
      "metadata": {
        "colab": {
          "base_uri": "https://localhost:8080/",
          "height": 627
        },
        "id": "JnEEytk3uFGd",
        "outputId": "ab4e64be-7885-4684-8523-43890cbc614b"
      },
      "execution_count": null,
      "outputs": [
        {
          "output_type": "display_data",
          "data": {
            "text/plain": [
              "<Figure size 1080x720 with 1 Axes>"
            ],
            "image/png": "[encoded data removed]"
          },
          "metadata": {
            "needs_background": "light"
          }
        }
      ]
    },
    {
      "cell_type": "code",
      "source": [
        "RNA_puzzles = weighted_model.predict(X_puzzles, batch_size=BATCH_SIZE)"
      ],
      "metadata": {
        "id": "Gacb3ekvdxxh"
      },
      "execution_count": null,
      "outputs": []
    },
    {
      "cell_type": "code",
      "source": [
        "puzzles = pd.DataFrame(RNA_puzzles, columns = ['predictions'])"
      ],
      "metadata": {
        "id": "rwMEGZEGegeJ"
      },
      "execution_count": null,
      "outputs": []
    },
    {
      "cell_type": "code",
      "source": [
        "puzzles['nuc1'] = nuc1\n"
      ],
      "metadata": {
        "id": "JLwwoC5yeA_5"
      },
      "execution_count": null,
      "outputs": []
    },
    {
      "cell_type": "code",
      "source": [
        "puzzles['nuc2'] = nuc2\n"
      ],
      "metadata": {
        "id": "sRSZZ5cbfAF4"
      },
      "execution_count": null,
      "outputs": []
    },
    {
      "cell_type": "code",
      "source": [
        "puzzles"
      ],
      "metadata": {
        "colab": {
          "base_uri": "https://localhost:8080/",
          "height": 424
        },
        "id": "e-MNJFT7bw21",
        "outputId": "84440203-fe72-40da-edb3-93c9af2f413f"
      },
      "execution_count": null,
      "outputs": [
        {
          "output_type": "execute_result",
          "data": {
            "text/plain": [
              "      predictions  nuc1  nuc2\n",
              "0        0.584935   6.0   6.0\n",
              "1        0.910329   6.0   7.0\n",
              "2        0.515956   6.0   8.0\n",
              "3        0.639218   6.0   9.0\n",
              "4        0.082870   6.0  10.0\n",
              "...           ...   ...   ...\n",
              "8095     0.565705  95.0  91.0\n",
              "8096     0.491918  95.0  92.0\n",
              "8097     0.776542  95.0  93.0\n",
              "8098     0.943005  95.0  94.0\n",
              "8099     0.846637  95.0  95.0\n",
              "\n",
              "[8100 rows x 3 columns]"
            ],
            "text/html": [
              "\n",
              "  <div id=\"df-8797e87e-9203-441d-90b3-809480c67037\">\n",
              "    <div class=\"colab-df-container\">\n",
              "      <div>\n",
              "<style scoped>\n",
              "    .dataframe tbody tr th:only-of-type {\n",
              "        vertical-align: middle;\n",
              "    }\n",
              "\n",
              "    .dataframe tbody tr th {\n",
              "        vertical-align: top;\n",
              "    }\n",
              "\n",
              "    .dataframe thead th {\n",
              "        text-align: right;\n",
              "    }\n",
              "</style>\n",
              "<table border=\"1\" class=\"dataframe\">\n",
              "  <thead>\n",
              "    <tr style=\"text-align: right;\">\n",
              "      <th></th>\n",
              "      <th>predictions</th>\n",
              "      <th>nuc1</th>\n",
              "      <th>nuc2</th>\n",
              "    </tr>\n",
              "  </thead>\n",
              "  <tbody>\n",
              "    <tr>\n",
              "      <th>0</th>\n",
              "      <td>0.584935</td>\n",
              "      <td>6.0</td>\n",
              "      <td>6.0</td>\n",
              "    </tr>\n",
              "    <tr>\n",
              "      <th>1</th>\n",
              "      <td>0.910329</td>\n",
              "      <td>6.0</td>\n",
              "      <td>7.0</td>\n",
              "    </tr>\n",
              "    <tr>\n",
              "      <th>2</th>\n",
              "      <td>0.515956</td>\n",
              "      <td>6.0</td>\n",
              "      <td>8.0</td>\n",
              "    </tr>\n",
              "    <tr>\n",
              "      <th>3</th>\n",
              "      <td>0.639218</td>\n",
              "      <td>6.0</td>\n",
              "      <td>9.0</td>\n",
              "    </tr>\n",
              "    <tr>\n",
              "      <th>4</th>\n",
              "      <td>0.082870</td>\n",
              "      <td>6.0</td>\n",
              "      <td>10.0</td>\n",
              "    </tr>\n",
              "    <tr>\n",
              "      <th>...</th>\n",
              "      <td>...</td>\n",
              "      <td>...</td>\n",
              "      <td>...</td>\n",
              "    </tr>\n",
              "    <tr>\n",
              "      <th>8095</th>\n",
              "      <td>0.565705</td>\n",
              "      <td>95.0</td>\n",
              "      <td>91.0</td>\n",
              "    </tr>\n",
              "    <tr>\n",
              "      <th>8096</th>\n",
              "      <td>0.491918</td>\n",
              "      <td>95.0</td>\n",
              "      <td>92.0</td>\n",
              "    </tr>\n",
              "    <tr>\n",
              "      <th>8097</th>\n",
              "      <td>0.776542</td>\n",
              "      <td>95.0</td>\n",
              "      <td>93.0</td>\n",
              "    </tr>\n",
              "    <tr>\n",
              "      <th>8098</th>\n",
              "      <td>0.943005</td>\n",
              "      <td>95.0</td>\n",
              "      <td>94.0</td>\n",
              "    </tr>\n",
              "    <tr>\n",
              "      <th>8099</th>\n",
              "      <td>0.846637</td>\n",
              "      <td>95.0</td>\n",
              "      <td>95.0</td>\n",
              "    </tr>\n",
              "  </tbody>\n",
              "</table>\n",
              "<p>8100 rows × 3 columns</p>\n",
              "</div>\n",
              "      <button class=\"colab-df-convert\" onclick=\"convertToInteractive('df-8797e87e-9203-441d-90b3-809480c67037')\"\n",
              "              title=\"Convert this dataframe to an interactive table.\"\n",
              "              style=\"display:none;\">\n",
              "        \n",
              "  <svg xmlns=\"http://www.w3.org/2000/svg\" height=\"24px\"viewBox=\"0 0 24 24\"\n",
              "       width=\"24px\">\n",
              "    <path d=\"M0 0h24v24H0V0z\" fill=\"none\"/>\n",
              "    <path d=\"M18.56 5.44l.94 2.06.94-2.06 2.06-.94-2.06-.94-.94-2.06-.94 2.06-2.06.94zm-11 1L8.5 8.5l.94-2.06 2.06-.94-2.06-.94L8.5 2.5l-.94 2.06-2.06.94zm10 10l.94 2.06.94-2.06 2.06-.94-2.06-.94-.94-2.06-.94 2.06-2.06.94z\"/><path d=\"M17.41 7.96l-1.37-1.37c-.4-.4-.92-.59-1.43-.59-.52 0-1.04.2-1.43.59L10.3 9.45l-7.72 7.72c-.78.78-.78 2.05 0 2.83L4 21.41c.39.39.9.59 1.41.59.51 0 1.02-.2 1.41-.59l7.78-7.78 2.81-2.81c.8-.78.8-2.07 0-2.86zM5.41 20L4 18.59l7.72-7.72 1.47 1.35L5.41 20z\"/>\n",
              "  </svg>\n",
              "      </button>\n",
              "      \n",
              "  <style>\n",
              "    .colab-df-container {\n",
              "      display:flex;\n",
              "      flex-wrap:wrap;\n",
              "      gap: 12px;\n",
              "    }\n",
              "\n",
              "    .colab-df-convert {\n",
              "      background-color: #E8F0FE;\n",
              "      border: none;\n",
              "      border-radius: 50%;\n",
              "      cursor: pointer;\n",
              "      display: none;\n",
              "      fill: #1967D2;\n",
              "      height: 32px;\n",
              "      padding: 0 0 0 0;\n",
              "      width: 32px;\n",
              "    }\n",
              "\n",
              "    .colab-df-convert:hover {\n",
              "      background-color: #E2EBFA;\n",
              "      box-shadow: 0px 1px 2px rgba(60, 64, 67, 0.3), 0px 1px 3px 1px rgba(60, 64, 67, 0.15);\n",
              "      fill: #174EA6;\n",
              "    }\n",
              "\n",
              "    [theme=dark] .colab-df-convert {\n",
              "      background-color: #3B4455;\n",
              "      fill: #D2E3FC;\n",
              "    }\n",
              "\n",
              "    [theme=dark] .colab-df-convert:hover {\n",
              "      background-color: #434B5C;\n",
              "      box-shadow: 0px 1px 3px 1px rgba(0, 0, 0, 0.15);\n",
              "      filter: drop-shadow(0px 1px 2px rgba(0, 0, 0, 0.3));\n",
              "      fill: #FFFFFF;\n",
              "    }\n",
              "  </style>\n",
              "\n",
              "      <script>\n",
              "        const buttonEl =\n",
              "          document.querySelector('#df-8797e87e-9203-441d-90b3-809480c67037 button.colab-df-convert');\n",
              "        buttonEl.style.display =\n",
              "          google.colab.kernel.accessAllowed ? 'block' : 'none';\n",
              "\n",
              "        async function convertToInteractive(key) {\n",
              "          const element = document.querySelector('#df-8797e87e-9203-441d-90b3-809480c67037');\n",
              "          const dataTable =\n",
              "            await google.colab.kernel.invokeFunction('convertToInteractive',\n",
              "                                                     [key], {});\n",
              "          if (!dataTable) return;\n",
              "\n",
              "          const docLinkHtml = 'Like what you see? Visit the ' +\n",
              "            '<a target=\"_blank\" href=https://colab.research.google.com/notebooks/data_table.ipynb>data table notebook</a>'\n",
              "            + ' to learn more about interactive tables.';\n",
              "          element.innerHTML = '';\n",
              "          dataTable['output_type'] = 'display_data';\n",
              "          await google.colab.output.renderOutput(dataTable, element);\n",
              "          const docLink = document.createElement('div');\n",
              "          docLink.innerHTML = docLinkHtml;\n",
              "          element.appendChild(docLink);\n",
              "        }\n",
              "      </script>\n",
              "    </div>\n",
              "  </div>\n",
              "  "
            ]
          },
          "metadata": {},
          "execution_count": 36
        }
      ]
    },
    {
      "cell_type": "code",
      "source": [
        "1  - 33\n",
        "23 - 55\n",
        "\n",
        "34 - 41\n",
        "57 - 64\n",
        "\n",
        "44 - 51\n",
        "65 - 72\n",
        "\n",
        "52 - 69\n",
        "83 - 101"
      ],
      "metadata": {
        "id": "71luQm2XneYs"
      },
      "execution_count": null,
      "outputs": []
    },
    {
      "cell_type": "code",
      "source": [
        "#use a for loop to renumber?"
      ],
      "metadata": {
        "id": "rfHkX6HppPLK"
      },
      "execution_count": null,
      "outputs": []
    },
    {
      "cell_type": "code",
      "source": [
        "df = puzzles[puzzles['nuc1'] > 22] \n",
        "\n",
        "df2 = df[df['nuc2'] > 22] \n"
      ],
      "metadata": {
        "id": "-A_Cvfl1b0Ez"
      },
      "execution_count": null,
      "outputs": []
    },
    {
      "cell_type": "code",
      "source": [
        "df2['nuc1'] = df2['nuc1'] - 22\n",
        "df2['nuc2'] = df2['nuc2'] - 22\n",
        "df2"
      ],
      "metadata": {
        "colab": {
          "base_uri": "https://localhost:8080/",
          "height": 638
        },
        "id": "vYt4dpgjoRee",
        "outputId": "de68860a-75bd-4b16-dba6-d0b365985aba"
      },
      "execution_count": null,
      "outputs": [
        {
          "output_type": "stream",
          "name": "stderr",
          "text": [
            "/usr/local/lib/python3.7/dist-packages/ipykernel_launcher.py:1: SettingWithCopyWarning: \n",
            "A value is trying to be set on a copy of a slice from a DataFrame.\n",
            "Try using .loc[row_indexer,col_indexer] = value instead\n",
            "\n",
            "See the caveats in the documentation: https://pandas.pydata.org/pandas-docs/stable/user_guide/indexing.html#returning-a-view-versus-a-copy\n",
            "  \"\"\"Entry point for launching an IPython kernel.\n",
            "/usr/local/lib/python3.7/dist-packages/ipykernel_launcher.py:2: SettingWithCopyWarning: \n",
            "A value is trying to be set on a copy of a slice from a DataFrame.\n",
            "Try using .loc[row_indexer,col_indexer] = value instead\n",
            "\n",
            "See the caveats in the documentation: https://pandas.pydata.org/pandas-docs/stable/user_guide/indexing.html#returning-a-view-versus-a-copy\n",
            "  \n"
          ]
        },
        {
          "output_type": "execute_result",
          "data": {
            "text/plain": [
              "      predictions  nuc1  nuc2\n",
              "1547     0.399620   1.0   1.0\n",
              "1548     0.565842   1.0   2.0\n",
              "1549     0.422497   1.0   3.0\n",
              "1550     0.817147   1.0   4.0\n",
              "1551     0.368936   1.0   5.0\n",
              "...           ...   ...   ...\n",
              "8095     0.565705  73.0  69.0\n",
              "8096     0.491918  73.0  70.0\n",
              "8097     0.776542  73.0  71.0\n",
              "8098     0.943005  73.0  72.0\n",
              "8099     0.846637  73.0  73.0\n",
              "\n",
              "[5329 rows x 3 columns]"
            ],
            "text/html": [
              "\n",
              "  <div id=\"df-927639e1-d393-497d-9dfb-4784d0fecd4c\">\n",
              "    <div class=\"colab-df-container\">\n",
              "      <div>\n",
              "<style scoped>\n",
              "    .dataframe tbody tr th:only-of-type {\n",
              "        vertical-align: middle;\n",
              "    }\n",
              "\n",
              "    .dataframe tbody tr th {\n",
              "        vertical-align: top;\n",
              "    }\n",
              "\n",
              "    .dataframe thead th {\n",
              "        text-align: right;\n",
              "    }\n",
              "</style>\n",
              "<table border=\"1\" class=\"dataframe\">\n",
              "  <thead>\n",
              "    <tr style=\"text-align: right;\">\n",
              "      <th></th>\n",
              "      <th>predictions</th>\n",
              "      <th>nuc1</th>\n",
              "      <th>nuc2</th>\n",
              "    </tr>\n",
              "  </thead>\n",
              "  <tbody>\n",
              "    <tr>\n",
              "      <th>1547</th>\n",
              "      <td>0.399620</td>\n",
              "      <td>1.0</td>\n",
              "      <td>1.0</td>\n",
              "    </tr>\n",
              "    <tr>\n",
              "      <th>1548</th>\n",
              "      <td>0.565842</td>\n",
              "      <td>1.0</td>\n",
              "      <td>2.0</td>\n",
              "    </tr>\n",
              "    <tr>\n",
              "      <th>1549</th>\n",
              "      <td>0.422497</td>\n",
              "      <td>1.0</td>\n",
              "      <td>3.0</td>\n",
              "    </tr>\n",
              "    <tr>\n",
              "      <th>1550</th>\n",
              "      <td>0.817147</td>\n",
              "      <td>1.0</td>\n",
              "      <td>4.0</td>\n",
              "    </tr>\n",
              "    <tr>\n",
              "      <th>1551</th>\n",
              "      <td>0.368936</td>\n",
              "      <td>1.0</td>\n",
              "      <td>5.0</td>\n",
              "    </tr>\n",
              "    <tr>\n",
              "      <th>...</th>\n",
              "      <td>...</td>\n",
              "      <td>...</td>\n",
              "      <td>...</td>\n",
              "    </tr>\n",
              "    <tr>\n",
              "      <th>8095</th>\n",
              "      <td>0.565705</td>\n",
              "      <td>73.0</td>\n",
              "      <td>69.0</td>\n",
              "    </tr>\n",
              "    <tr>\n",
              "      <th>8096</th>\n",
              "      <td>0.491918</td>\n",
              "      <td>73.0</td>\n",
              "      <td>70.0</td>\n",
              "    </tr>\n",
              "    <tr>\n",
              "      <th>8097</th>\n",
              "      <td>0.776542</td>\n",
              "      <td>73.0</td>\n",
              "      <td>71.0</td>\n",
              "    </tr>\n",
              "    <tr>\n",
              "      <th>8098</th>\n",
              "      <td>0.943005</td>\n",
              "      <td>73.0</td>\n",
              "      <td>72.0</td>\n",
              "    </tr>\n",
              "    <tr>\n",
              "      <th>8099</th>\n",
              "      <td>0.846637</td>\n",
              "      <td>73.0</td>\n",
              "      <td>73.0</td>\n",
              "    </tr>\n",
              "  </tbody>\n",
              "</table>\n",
              "<p>5329 rows × 3 columns</p>\n",
              "</div>\n",
              "      <button class=\"colab-df-convert\" onclick=\"convertToInteractive('df-927639e1-d393-497d-9dfb-4784d0fecd4c')\"\n",
              "              title=\"Convert this dataframe to an interactive table.\"\n",
              "              style=\"display:none;\">\n",
              "        \n",
              "  <svg xmlns=\"http://www.w3.org/2000/svg\" height=\"24px\"viewBox=\"0 0 24 24\"\n",
              "       width=\"24px\">\n",
              "    <path d=\"M0 0h24v24H0V0z\" fill=\"none\"/>\n",
              "    <path d=\"M18.56 5.44l.94 2.06.94-2.06 2.06-.94-2.06-.94-.94-2.06-.94 2.06-2.06.94zm-11 1L8.5 8.5l.94-2.06 2.06-.94-2.06-.94L8.5 2.5l-.94 2.06-2.06.94zm10 10l.94 2.06.94-2.06 2.06-.94-2.06-.94-.94-2.06-.94 2.06-2.06.94z\"/><path d=\"M17.41 7.96l-1.37-1.37c-.4-.4-.92-.59-1.43-.59-.52 0-1.04.2-1.43.59L10.3 9.45l-7.72 7.72c-.78.78-.78 2.05 0 2.83L4 21.41c.39.39.9.59 1.41.59.51 0 1.02-.2 1.41-.59l7.78-7.78 2.81-2.81c.8-.78.8-2.07 0-2.86zM5.41 20L4 18.59l7.72-7.72 1.47 1.35L5.41 20z\"/>\n",
              "  </svg>\n",
              "      </button>\n",
              "      \n",
              "  <style>\n",
              "    .colab-df-container {\n",
              "      display:flex;\n",
              "      flex-wrap:wrap;\n",
              "      gap: 12px;\n",
              "    }\n",
              "\n",
              "    .colab-df-convert {\n",
              "      background-color: #E8F0FE;\n",
              "      border: none;\n",
              "      border-radius: 50%;\n",
              "      cursor: pointer;\n",
              "      display: none;\n",
              "      fill: #1967D2;\n",
              "      height: 32px;\n",
              "      padding: 0 0 0 0;\n",
              "      width: 32px;\n",
              "    }\n",
              "\n",
              "    .colab-df-convert:hover {\n",
              "      background-color: #E2EBFA;\n",
              "      box-shadow: 0px 1px 2px rgba(60, 64, 67, 0.3), 0px 1px 3px 1px rgba(60, 64, 67, 0.15);\n",
              "      fill: #174EA6;\n",
              "    }\n",
              "\n",
              "    [theme=dark] .colab-df-convert {\n",
              "      background-color: #3B4455;\n",
              "      fill: #D2E3FC;\n",
              "    }\n",
              "\n",
              "    [theme=dark] .colab-df-convert:hover {\n",
              "      background-color: #434B5C;\n",
              "      box-shadow: 0px 1px 3px 1px rgba(0, 0, 0, 0.15);\n",
              "      filter: drop-shadow(0px 1px 2px rgba(0, 0, 0, 0.3));\n",
              "      fill: #FFFFFF;\n",
              "    }\n",
              "  </style>\n",
              "\n",
              "      <script>\n",
              "        const buttonEl =\n",
              "          document.querySelector('#df-927639e1-d393-497d-9dfb-4784d0fecd4c button.colab-df-convert');\n",
              "        buttonEl.style.display =\n",
              "          google.colab.kernel.accessAllowed ? 'block' : 'none';\n",
              "\n",
              "        async function convertToInteractive(key) {\n",
              "          const element = document.querySelector('#df-927639e1-d393-497d-9dfb-4784d0fecd4c');\n",
              "          const dataTable =\n",
              "            await google.colab.kernel.invokeFunction('convertToInteractive',\n",
              "                                                     [key], {});\n",
              "          if (!dataTable) return;\n",
              "\n",
              "          const docLinkHtml = 'Like what you see? Visit the ' +\n",
              "            '<a target=\"_blank\" href=https://colab.research.google.com/notebooks/data_table.ipynb>data table notebook</a>'\n",
              "            + ' to learn more about interactive tables.';\n",
              "          element.innerHTML = '';\n",
              "          dataTable['output_type'] = 'display_data';\n",
              "          await google.colab.output.renderOutput(dataTable, element);\n",
              "          const docLink = document.createElement('div');\n",
              "          docLink.innerHTML = docLinkHtml;\n",
              "          element.appendChild(docLink);\n",
              "        }\n",
              "      </script>\n",
              "    </div>\n",
              "  </div>\n",
              "  "
            ]
          },
          "metadata": {},
          "execution_count": 46
        }
      ]
    },
    {
      "cell_type": "code",
      "source": [
        "puzzle = puzzles.nlargest(n=100, columns = ['predictions'])"
      ],
      "metadata": {
        "id": "WXh4BEQwfEpL"
      },
      "execution_count": null,
      "outputs": []
    },
    {
      "cell_type": "code",
      "source": [
        "puzzle.to_csv('RF00622_predictions.csv')"
      ],
      "metadata": {
        "id": "uRfWty4Yflyy"
      },
      "execution_count": null,
      "outputs": []
    }
  ]
}